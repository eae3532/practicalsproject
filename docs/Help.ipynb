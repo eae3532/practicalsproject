{
 "cells": [
  {
   "cell_type": "markdown",
   "metadata": {},
   "source": [
    "<img src=\"./src/Monash-logo.jpg\" width = \"600\">"
   ]
  },
  {
   "cell_type": "markdown",
   "metadata": {},
   "source": [
    "## Using Jupyter Notebooks"
   ]
  },
  {
   "cell_type": "markdown",
   "metadata": {},
   "source": [
    "**Enter**: Enter edit mode.  \n",
    "**Esc**: Leave edit mode.  \n",
    "**Cursor Up/Down**: Move to the above/below cell (when not in edit mode).  \n",
    "**Ctrl-Enter**: Execute current cell.  \n",
    "**Shift-Enter**: Execute current cell and move to next.  \n",
    "**Tab**: (After you've commenced typing) Autocomplete.  \n",
    "**Shift-Tab**: (When inside function parenthesis) List function parameters.  \n",
    "  \n",
    "  \n",
    "- To save the Python code in a notebook from the menu _File->Download as->Python_  \n",
    "- To save a browser viewable version of a notebook from the menu _File->Download as->HTML_"
   ]
  },
  {
   "cell_type": "markdown",
   "metadata": {},
   "source": [
    "## Finding Help in Notebooks"
   ]
  },
  {
   "cell_type": "markdown",
   "metadata": {
    "collapsed": true
   },
   "source": [
    "- The _HELP_ tab in the toolbar menu has links to documentation help for Python, Jupyter notebooks and the libraries used in the practicals.  \n",
    "- The _Snippets_ tab in the toolbar menu allows you to insert Python code into a notebook.\n"
   ]
  },
  {
   "cell_type": "code",
   "execution_count": 1,
   "metadata": {},
   "outputs": [],
   "source": [
    "# for an introduction and overview of Jupyter's features type a question mark ? and run the cell\n",
    "# info appears as a separate scrollable page at the bottom of the screen\n",
    "?"
   ]
  },
  {
   "cell_type": "code",
   "execution_count": 2,
   "metadata": {},
   "outputs": [],
   "source": [
    "# for a quick refernece to all Ipyhton magics (%,%%)\n",
    "%quickref"
   ]
  },
  {
   "cell_type": "code",
   "execution_count": null,
   "metadata": {},
   "outputs": [
    {
     "name": "stdout",
     "output_type": "stream",
     "text": [
      "\n",
      "Welcome to Python 3.6's help utility!\n",
      "\n",
      "If this is your first time using Python, you should definitely check out\n",
      "the tutorial on the Internet at https://docs.python.org/3.6/tutorial/.\n",
      "\n",
      "Enter the name of any module, keyword, or topic to get help on writing\n",
      "Python programs and using Python modules.  To quit this help utility and\n",
      "return to the interpreter, just type \"quit\".\n",
      "\n",
      "To get a list of available modules, keywords, symbols, or topics, type\n",
      "\"modules\", \"keywords\", \"symbols\", or \"topics\".  Each module also comes\n",
      "with a one-line summary of what it does; to list the modules whose name\n",
      "or summary contain a given string such as \"spam\", type \"modules spam\".\n",
      "\n"
     ]
    }
   ],
   "source": [
    "# for Pythons own interactive help system, type quit to exit\n",
    "help()"
   ]
  },
  {
   "cell_type": "code",
   "execution_count": null,
   "metadata": {},
   "outputs": [],
   "source": [
    "# for help/info on a specific module, object or keyword you can use either ? or help()\n",
    "# with the name of the thing you want info on\n",
    "? int\n",
    "help(int)"
   ]
  },
  {
   "cell_type": "code",
   "execution_count": null,
   "metadata": {},
   "outputs": [],
   "source": [
    "# to view the source code of a module or function use ??\n",
    "import numpy\n",
    "?? numpy"
   ]
  },
  {
   "cell_type": "markdown",
   "metadata": {},
   "source": [
    "## Useful Links\n"
   ]
  },
  {
   "cell_type": "markdown",
   "metadata": {},
   "source": [
    "<a href=\"https://jakevdp.github.io/PythonDataScienceHandbook/\">Python Data Science Handbook</a>  \n",
    "<a href=\"https://matplotlib.org/gallery.html\">Matplotlib Example Gallery</a>  \n",
    "<a href=\"https://www.stavros.io/tutorials/python/\">Learn Python in 10 Minutes</a>  \n",
    "<a href=\"https://docs.scipy.org/doc/numpy-dev/user/quickstart.html\">Numpy Quickstart Tutorial</a>  \n",
    "<a href=\"http://nbviewer.jupyter.org/github/jrjohansson/scientific-python-lectures/tree/master/\">Scientific Computing</a>\n"
   ]
  },
  {
   "cell_type": "code",
   "execution_count": null,
   "metadata": {},
   "outputs": [],
   "source": []
  }
 ],
 "metadata": {
  "kernelspec": {
   "display_name": "Python 3",
   "language": "python",
   "name": "python3"
  },
  "language_info": {
   "codemirror_mode": {
    "name": "ipython",
    "version": 3
   },
   "file_extension": ".py",
   "mimetype": "text/x-python",
   "name": "python",
   "nbconvert_exporter": "python",
   "pygments_lexer": "ipython3",
   "version": "3.6.5"
  }
 },
 "nbformat": 4,
 "nbformat_minor": 2
}
