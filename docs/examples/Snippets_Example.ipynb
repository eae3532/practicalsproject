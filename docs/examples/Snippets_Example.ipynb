{
 "cells": [
  {
   "cell_type": "markdown",
   "metadata": {
    "collapsed": true
   },
   "source": [
    "# SNIPPETS\n",
    "\n",
    "Snippets, which appear as a drop down menu, gives access to insertable example code. This would be ideal to include as a  \n",
    "learning/help tool. To include this feature 'nbextensions' needs to be installed. The menu includes (for HTML viewing),  \n",
    "* Numpy\n",
    "* Scipy\n",
    "* Matplotlib\n",
    "* Sympy\n",
    "* pandas\n",
    "* Python\n",
    "\n",
    "NOTE: it is also very easy to customize the menu for specific Earth Science or ESC 3332 content."
   ]
  },
  {
   "cell_type": "markdown",
   "metadata": {},
   "source": [
    "### Install\n",
    "pip install jupyter_contrib_nbextensions  \n",
    "conda install -c conda-forge jupyter_contrib_nbextensions  \n",
    "...plus enable nbextensions snippets"
   ]
  },
  {
   "cell_type": "code",
   "execution_count": 2,
   "metadata": {
    "collapsed": true
   },
   "outputs": [],
   "source": [
    "# example numpy snippet\n",
    "from __future__ import print_function, division\n",
    "import numpy as np\n",
    "new_array = np.zeros((4,3,), dtype=complex)"
   ]
  },
  {
   "cell_type": "code",
   "execution_count": 3,
   "metadata": {
    "collapsed": true
   },
   "outputs": [],
   "source": [
    "# example matplotlib set up snippet\n",
    "from __future__ import print_function, division\n",
    "import numpy as np\n",
    "import matplotlib as mpl\n",
    "import matplotlib.pyplot as plt\n",
    "%matplotlib inline"
   ]
  },
  {
   "cell_type": "code",
   "execution_count": 4,
   "metadata": {
    "collapsed": true
   },
   "outputs": [],
   "source": [
    "# example Python simple function snippet\n",
    "def bp_some_func(x):\n",
    "    r\"\"\"Brief description of the function\"\"\"\n",
    "    return x**2"
   ]
  },
  {
   "cell_type": "code",
   "execution_count": null,
   "metadata": {
    "collapsed": true
   },
   "outputs": [],
   "source": []
  }
 ],
 "metadata": {
  "kernelspec": {
   "display_name": "Python 2",
   "language": "python",
   "name": "python2"
  },
  "language_info": {
   "codemirror_mode": {
    "name": "ipython",
    "version": 2
   },
   "file_extension": ".py",
   "mimetype": "text/x-python",
   "name": "python",
   "nbconvert_exporter": "python",
   "pygments_lexer": "ipython2",
   "version": "2.7.13"
  }
 },
 "nbformat": 4,
 "nbformat_minor": 2
}
