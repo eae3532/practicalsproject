{
 "cells": [
  {
   "cell_type": "markdown",
   "metadata": {},
   "source": [
    "<img src=\"./src/Monash-logo.jpg\" width = \"600\">"
   ]
  },
  {
   "cell_type": "markdown",
   "metadata": {},
   "source": [
    "<h1 align=\"center\">EAE 3532 - Physics of the Solid Earth</h1>"
   ]
  },
  {
   "cell_type": "markdown",
   "metadata": {},
   "source": [
    "<h2 align=\"center\">Practicals Introduction</h2>"
   ]
  },
  {
   "cell_type": "markdown",
   "metadata": {},
   "source": [
    "## Python Basics"
   ]
  },
  {
   "cell_type": "code",
   "execution_count": 2,
   "metadata": {},
   "outputs": [
    {
     "name": "stdout",
     "output_type": "stream",
     "text": [
      "100000.0\n",
      "-1.45\n",
      "Enter your data 4\n",
      "4.0\n"
     ]
    }
   ],
   "source": [
    "# Creating variables\n",
    "a = 1e05\n",
    "b = -1.45\n",
    "\n",
    "# Displaying variables\n",
    "print(a)\n",
    "print(b)\n",
    "\n",
    "# User input variables\n",
    "c = float(raw_input(\"Enter your data \"))\n",
    "print(c)"
   ]
  },
  {
   "cell_type": "markdown",
   "metadata": {},
   "source": [
    "## Arrays and Numpy"
   ]
  },
  {
   "cell_type": "code",
   "execution_count": 3,
   "metadata": {
    "collapsed": true
   },
   "outputs": [],
   "source": [
    "# numpy is used for arrays\n",
    "import numpy as np"
   ]
  },
  {
   "cell_type": "code",
   "execution_count": 37,
   "metadata": {},
   "outputs": [
    {
     "name": "stdout",
     "output_type": "stream",
     "text": [
      "[ 5  9 13]\n",
      "[ 0  1  2  3  4  5  6  7  8  9 10 11 12 13 14 15 16 17 18 19]\n",
      "[ 0.    0.25  0.5   0.75  1.    1.25  1.5   1.75  2.  ]\n",
      "[ 0.  0.  0.  0.  0.  0.  0.  0.  0.  0.]\n",
      "[ 1.  1.  1.  1.  1.  1.  1.  1.  1.  1.]\n",
      "[ 92.91285268  74.97271998  82.32879989  54.53846731  13.64733964\n",
      "  34.0258039    2.83766095  76.18807504  56.73715396   7.08311705]\n"
     ]
    }
   ],
   "source": [
    "# single dimension arrays\n",
    "a = np.array([5, 9, 13])\n",
    "\n",
    "b = np.arange(20) # 20 sequential numbers\n",
    "\n",
    "c = np.linspace(0, 2, 9) # 8 even spaced numbers from 0 to 2\n",
    "\n",
    "d = np.zeros(10) # an array of 10 zeros\n",
    "\n",
    "e = np.ones(10) # an array of 10 ones\n",
    "\n",
    "f = 100*np.random.random(10) # an array of 10 random numbers from 0 to 100\n",
    "\n",
    "print(a)\n",
    "print(b)\n",
    "print(c)\n",
    "print(d)\n",
    "print(e)\n",
    "print(f)\n"
   ]
  },
  {
   "cell_type": "code",
   "execution_count": 5,
   "metadata": {},
   "outputs": [
    {
     "name": "stdout",
     "output_type": "stream",
     "text": [
      "[10 40 70]\n"
     ]
    }
   ],
   "source": [
    "# array operations are per array element\n",
    "# this is an operaion between a scalar and an array\n",
    "\n",
    "val = 10\n",
    "new_a = val*a\n",
    "print(new_a)"
   ]
  },
  {
   "cell_type": "code",
   "execution_count": 6,
   "metadata": {},
   "outputs": [
    {
     "name": "stdout",
     "output_type": "stream",
     "text": [
      "12\n",
      "28\n",
      "4.0\n",
      "7\n"
     ]
    }
   ],
   "source": [
    "# some useful aggregate and statistical functions \n",
    "\n",
    "print(np.sum(a))\n",
    "print(np.prod(a))\n",
    "print(np.mean(a))\n",
    "print(np.max(a))"
   ]
  },
  {
   "cell_type": "markdown",
   "metadata": {},
   "source": [
    "## Plotting"
   ]
  },
  {
   "cell_type": "code",
   "execution_count": 7,
   "metadata": {
    "collapsed": true
   },
   "outputs": [],
   "source": [
    "# matplotlib is used for plotting\n",
    "%matplotlib inline\n",
    "import matplotlib.pyplot as plt"
   ]
  },
  {
   "cell_type": "code",
   "execution_count": 38,
   "metadata": {},
   "outputs": [
    {
     "data": {
      "image/png": "[encoded data removed]",
      "text/plain": [
       "<matplotlib.figure.Figure at 0xc115208>"
      ]
     },
     "metadata": {},
     "output_type": "display_data"
    }
   ],
   "source": [
    "x = 4.5\n",
    "y = 5.5\n",
    "\n",
    "plt.plot(x, y, 'ro'); # to plot a red point at the x,y co-ordinate point\n",
    "plt.plot(x*a, a, '-g'); # to plot a green line \n",
    "plt.plot(x*c, c, '--b'); # to plot a dashed blue line\n"
   ]
  },
  {
   "cell_type": "code",
   "execution_count": 48,
   "metadata": {},
   "outputs": [
    {
     "data": {
      "image/png": "[encoded data removed]",
      "text/plain": [
       "<matplotlib.figure.Figure at 0x9b37d30>"
      ]
     },
     "metadata": {},
     "output_type": "display_data"
    }
   ],
   "source": [
    "# setting axis bounds, labels and title\n",
    "plt.plot(b, np.power(b, 2))\n",
    "\n",
    "plt.xlim(0, 10)\n",
    "plt.xlabel(\"X Axis\")\n",
    "plt.ylim(0, 100)\n",
    "plt.ylabel(\"Y Axis\")\n",
    "plt.title(\"EXAMPLE PLOT\");"
   ]
  }
 ],
 "metadata": {
  "kernelspec": {
   "display_name": "Python 2",
   "language": "python",
   "name": "python2"
  },
  "language_info": {
   "codemirror_mode": {
    "name": "ipython",
    "version": 2
   },
   "file_extension": ".py",
   "mimetype": "text/x-python",
   "name": "python",
   "nbconvert_exporter": "python",
   "pygments_lexer": "ipython2",
   "version": "2.7.13"
  }
 },
 "nbformat": 4,
 "nbformat_minor": 2
}
