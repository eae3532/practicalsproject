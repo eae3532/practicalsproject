{
 "cells": [
  {
   "cell_type": "markdown",
   "metadata": {},
   "source": [
    "<img src=\"./src/Monash-logo.jpg\" width = \"600\">"
   ]
  },
  {
   "cell_type": "markdown",
   "metadata": {},
   "source": [
    "### Instructions for Use\n",
    "\n",
    "- This template will generate a HTML file that contains each text box's input.  \n",
    "    The file will only be created if each input has the required _word length_.  \n",
    "    Set the _word length_ in the first cell (directly under this one before first question).\n",
    "- Copy and Paste the cells into any notebook.\n",
    "- Extend the variable numbered naming system for UI elements to add more questions.\n",
    "- Hide/Show selected code cells with the Toolbar option before saving.\n",
    "![title](./src/hidecell.JPG)  \n",
    "- **Clear Notebook Widget State** and **Save Notebook Widget State** from the _Widgets_ tab in the toolbar  before **Save and Checkpoint**.\n"
   ]
  },
  {
   "cell_type": "code",
   "execution_count": 31,
   "metadata": {
    "hide_input": true
   },
   "outputs": [],
   "source": [
    "import ipywidgets as widgets\n",
    "from IPython.display import display\n",
    "import time as t\n",
    "word_length = 3"
   ]
  },
  {
   "cell_type": "markdown",
   "metadata": {},
   "source": [
    "** 1)** Describe the pressure profile (linear/non-linear, depth- or density-dependent)"
   ]
  },
  {
   "cell_type": "code",
   "execution_count": 32,
   "metadata": {
    "hide_input": true
   },
   "outputs": [
    {
     "data": {
      "application/vnd.jupyter.widget-view+json": {
       "model_id": "1d3776dba1794ff88b7b0df93d5bc879",
       "version_major": 2,
       "version_minor": 0
      },
      "text/plain": [
       "Textarea(value='', placeholder='Please enter a short paragraph answer here ...', rows=5)"
      ]
     },
     "metadata": {},
     "output_type": "display_data"
    },
    {
     "data": {
      "application/vnd.jupyter.widget-view+json": {
       "model_id": "60479ca762fc4c2487ae13e55910608a",
       "version_major": 2,
       "version_minor": 0
      },
      "text/plain": [
       "Button(button_style='info', description='Check Answer', style=ButtonStyle())"
      ]
     },
     "metadata": {},
     "output_type": "display_data"
    },
    {
     "data": {
      "application/vnd.jupyter.widget-view+json": {
       "model_id": "ff2312df2b754a1caa0e5119a5398293",
       "version_major": 2,
       "version_minor": 0
      },
      "text/plain": [
       "Label(value='')"
      ]
     },
     "metadata": {},
     "output_type": "display_data"
    }
   ],
   "source": [
    "text_1 = widgets.Textarea(rows=5, placeholder='Please enter a short paragraph answer here ...')\n",
    "button_1 = widgets.Button(description='Check Answer', button_style='info')\n",
    "label_1 = widgets.Label(value='')\n",
    "#container_1 = widgets.HBox(children=[text_1, button_1])\n",
    "\n",
    "def submit_text_1(sender):\n",
    "    sender.description = 'Check Answer'\n",
    "    sender.button_style = 'info'\n",
    "    \n",
    "    words_1 = text_1.value.split()\n",
    "    \n",
    "    if len(words_1) < word_length:\n",
    "        label_1.value = 'Too short...try again!'\n",
    "        t.sleep(3)\n",
    "        label_1.value = ''\n",
    "    else:\n",
    "        sender.description = 'OK!'\n",
    "        sender.button_style = 'success'\n",
    "    return words_1\n",
    "    \n",
    "button_1.on_click(submit_text_1)\n",
    "display(text_1)\n",
    "display(button_1)\n",
    "display(label_1)\n",
    "#display(container_1)"
   ]
  },
  {
   "cell_type": "markdown",
   "metadata": {},
   "source": [
    "**2)** Describe the assumptions of depth-dependent (and density-independent) pressure"
   ]
  },
  {
   "cell_type": "code",
   "execution_count": 33,
   "metadata": {
    "hide_input": true
   },
   "outputs": [
    {
     "data": {
      "application/vnd.jupyter.widget-view+json": {
       "model_id": "4e4b479819374cee9ac5fae606e5dda9",
       "version_major": 2,
       "version_minor": 0
      },
      "text/plain": [
       "Textarea(value='', placeholder='Please enter a short paragraph answer here ...', rows=5)"
      ]
     },
     "metadata": {},
     "output_type": "display_data"
    },
    {
     "data": {
      "application/vnd.jupyter.widget-view+json": {
       "model_id": "c49517a443544ba4b63746723d5e7d50",
       "version_major": 2,
       "version_minor": 0
      },
      "text/plain": [
       "Button(button_style='info', description='Check Answer', style=ButtonStyle())"
      ]
     },
     "metadata": {},
     "output_type": "display_data"
    },
    {
     "data": {
      "application/vnd.jupyter.widget-view+json": {
       "model_id": "0b29befd860340df9926eda96adda72c",
       "version_major": 2,
       "version_minor": 0
      },
      "text/plain": [
       "Label(value='')"
      ]
     },
     "metadata": {},
     "output_type": "display_data"
    }
   ],
   "source": [
    "text_2 = widgets.Textarea(rows=5, placeholder='Please enter a short paragraph answer here ...')\n",
    "button_2 = widgets.Button(description='Check Answer', button_style='info')\n",
    "label_2 = widgets.Label(value='')\n",
    "#container_2 = widgets.HBox(children=[text_2, button_2])\n",
    "\n",
    "def submit_text_2(sender):\n",
    "    sender.description = 'Check Answer'\n",
    "    sender.button_style = 'info'\n",
    "    \n",
    "    words_2 = text_2.value.split()\n",
    "    \n",
    "    if len(words_2) < word_length:\n",
    "        label_2.value = 'Too short...try again!'\n",
    "        t.sleep(3)\n",
    "        label_2.value = ''\n",
    "    else:\n",
    "        sender.description = 'OK!'\n",
    "        sender.button_style = 'success'\n",
    "        \n",
    "\n",
    "button_2.on_click(submit_text_2)\n",
    "display(text_2)\n",
    "display(button_2)\n",
    "display(label_2)\n",
    "#display(container_2)"
   ]
  },
  {
   "cell_type": "markdown",
   "metadata": {
    "hide_input": true
   },
   "source": [
    "**3)** What is the Pressure at the base of the cold and warm lithospheres?"
   ]
  },
  {
   "cell_type": "code",
   "execution_count": 34,
   "metadata": {
    "hide_input": true
   },
   "outputs": [
    {
     "data": {
      "application/vnd.jupyter.widget-view+json": {
       "model_id": "f5f1ddfd34a04329b9536f48d37e8f4b",
       "version_major": 2,
       "version_minor": 0
      },
      "text/plain": [
       "Textarea(value='', placeholder='Please enter a short paragraph answer here ...', rows=5)"
      ]
     },
     "metadata": {},
     "output_type": "display_data"
    },
    {
     "data": {
      "application/vnd.jupyter.widget-view+json": {
       "model_id": "153b90da44a6491bb8ad483d67b9ceb1",
       "version_major": 2,
       "version_minor": 0
      },
      "text/plain": [
       "Button(button_style='info', description='Check Answer', style=ButtonStyle())"
      ]
     },
     "metadata": {},
     "output_type": "display_data"
    },
    {
     "data": {
      "application/vnd.jupyter.widget-view+json": {
       "model_id": "0aada9782f3f445cb054b1ffddf92950",
       "version_major": 2,
       "version_minor": 0
      },
      "text/plain": [
       "Label(value='')"
      ]
     },
     "metadata": {},
     "output_type": "display_data"
    }
   ],
   "source": [
    "text_3 = widgets.Textarea(rows=5, placeholder='Please enter a short paragraph answer here ...')\n",
    "button_3 = widgets.Button(description='Check Answer', button_style='info')\n",
    "label_3 = widgets.Label(value='')\n",
    "#container_3 = widgets.HBox(children=[text_3, button_3])\n",
    "\n",
    "def submit_text_3(sender):\n",
    "    sender.description = 'Check Answer'\n",
    "    sender.button_style = 'info'\n",
    "    \n",
    "    words_3 = text_3.value.split()\n",
    "    \n",
    "    if len(words_3) < word_length:\n",
    "        label_3.value = 'Too short...try again!'\n",
    "        t.sleep(3)\n",
    "        label_3.value = ''\n",
    "    else:\n",
    "        sender.description = 'OK!'\n",
    "        sender.button_style = 'success'\n",
    "        \n",
    "\n",
    "button_3.on_click(submit_text_3)\n",
    "display(text_3)\n",
    "display(button_3)\n",
    "display(label_3)\n",
    "#display(container_3)"
   ]
  },
  {
   "cell_type": "code",
   "execution_count": 35,
   "metadata": {
    "hide_input": true
   },
   "outputs": [
    {
     "data": {
      "application/vnd.jupyter.widget-view+json": {
       "model_id": "a45bb45a4bd848e88a982d9dab6631d6",
       "version_major": 2,
       "version_minor": 0
      },
      "text/plain": [
       "Button(button_style='danger', description='Save and Submit', style=ButtonStyle())"
      ]
     },
     "metadata": {},
     "output_type": "display_data"
    },
    {
     "data": {
      "application/vnd.jupyter.widget-view+json": {
       "model_id": "9b13f63c85dd455a85324a546347518f",
       "version_major": 2,
       "version_minor": 0
      },
      "text/plain": [
       "Label(value='')"
      ]
     },
     "metadata": {},
     "output_type": "display_data"
    }
   ],
   "source": [
    "from ipywidgets.embed import embed_minimal_html\n",
    "from IPython.display import Javascript\n",
    "\n",
    "submit_button = widgets.Button(description='Save and Submit', button_style='danger')\n",
    "submit_label = widgets.Label(value='')\n",
    "display(submit_button)\n",
    "display(submit_label)\n",
    "\n",
    "\n",
    "def check_submit(submit):\n",
    "    answer1_len = len(text_1.value.split())\n",
    "    answer2_len = len(text_2.value.split())\n",
    "    answer3_len = len(text_3.value.split())\n",
    "    \n",
    "    if answer1_len >= word_length and answer2_len >= word_length and answer3_len >= word_length:\n",
    "        submit_label.value = 'Saved practical_1.html..please submit this file to Moodle'\n",
    "        js = \"\"\"Jupyter.actions.call('widgets:save-widget-state')\"\"\"\n",
    "        display(Javascript(data=js))\n",
    "        embed_minimal_html('practical_1.html', views=[text_1,text_2,text_3], title='Practical 1')\n",
    "    else:\n",
    "        submit_label.value = 'Check your answers and try again'\n",
    "        t.sleep(3)\n",
    "        submit_label.value = ''\n",
    "    \n",
    "submit_button.on_click(check_submit)"
   ]
  }
 ],
 "metadata": {
  "kernelspec": {
   "display_name": "Python 3",
   "language": "python",
   "name": "python3"
  },
  "language_info": {
   "codemirror_mode": {
    "name": "ipython",
    "version": 3
   },
   "file_extension": ".py",
   "mimetype": "text/x-python",
   "name": "python",
   "nbconvert_exporter": "python",
   "pygments_lexer": "ipython3",
   "version": "3.6.5"
  },
  "widgets": {
   "application/vnd.jupyter.widget-state+json": {
    "state": {
     "02821eb996ce4d99bb43bc70c9417664": {
      "model_module": "@jupyter-widgets/controls",
      "model_module_version": "1.2.0",
      "model_name": "ButtonStyleModel",
      "state": {}
     },
     "02dcc12413f24ba58b3cef9615c62351": {
      "model_module": "@jupyter-widgets/controls",
      "model_module_version": "1.2.0",
      "model_name": "DescriptionStyleModel",
      "state": {
       "description_width": ""
      }
     },
     "03154614280a4076a8ea9387a7497727": {
      "model_module": "@jupyter-widgets/base",
      "model_module_version": "1.0.0",
      "model_name": "LayoutModel",
      "state": {}
     },
     "035933420ce9454286a30778cb29505a": {
      "model_module": "@jupyter-widgets/base",
      "model_module_version": "1.0.0",
      "model_name": "LayoutModel",
      "state": {}
     },
     "037cf6da16724d77b41a8fb7bb20f658": {
      "model_module": "@jupyter-widgets/controls",
      "model_module_version": "1.2.0",
      "model_name": "TextareaModel",
      "state": {
       "layout": "IPY_MODEL_d0f3a4f7a39e46a2bdeac8c6967ed46f",
       "placeholder": "Please enter a short paragraph answer here ...",
       "rows": 5,
       "style": "IPY_MODEL_39ce9fe9ac9b4e0da50f1692bb24bc3b"
      }
     },
     "053558aa5be84062bde3963fcba51187": {
      "model_module": "@jupyter-widgets/controls",
      "model_module_version": "1.2.0",
      "model_name": "LabelModel",
      "state": {
       "layout": "IPY_MODEL_53bdb4f51d8f4b70b0927cdf61ce3f88",
       "style": "IPY_MODEL_3ce91a5eff2740ad8662b1d4d5d41311"
      }
     },
     "068ff7728898499196032dd469bcfba3": {
      "model_module": "@jupyter-widgets/controls",
      "model_module_version": "1.2.0",
      "model_name": "DescriptionStyleModel",
      "state": {
       "description_width": ""
      }
     },
     "07cad25fe848489db458f5a8493a4be6": {
      "model_module": "@jupyter-widgets/controls",
      "model_module_version": "1.2.0",
      "model_name": "DescriptionStyleModel",
      "state": {
       "description_width": ""
      }
     },
     "096ac9624cfa425fa1bec1da2ac1d5bd": {
      "model_module": "@jupyter-widgets/controls",
      "model_module_version": "1.2.0",
      "model_name": "DescriptionStyleModel",
      "state": {
       "description_width": ""
      }
     },
     "0a68aae69be74551b7eb37b90c9d66ed": {
      "model_module": "@jupyter-widgets/controls",
      "model_module_version": "1.2.0",
      "model_name": "LabelModel",
      "state": {
       "layout": "IPY_MODEL_242fcfa6c5744195831e718b5e4d0d43",
       "style": "IPY_MODEL_0f44693733b84594b9552fb2da4ccecf"
      }
     },
     "0aada9782f3f445cb054b1ffddf92950": {
      "model_module": "@jupyter-widgets/controls",
      "model_module_version": "1.2.0",
      "model_name": "LabelModel",
      "state": {
       "layout": "IPY_MODEL_ea8f804b18b34969a9d99eaea69409e4",
       "style": "IPY_MODEL_9f673b01efff4cbc9bee8b0d0fdc0a40"
      }
     },
     "0b29befd860340df9926eda96adda72c": {
      "model_module": "@jupyter-widgets/controls",
      "model_module_version": "1.2.0",
      "model_name": "LabelModel",
      "state": {
       "layout": "IPY_MODEL_1e2cdd9d4d5b4e3e9c1b60d79b6d833d",
       "style": "IPY_MODEL_693ae52f827a4d24a638da838893e227"
      }
     },
     "0bdef2f8d4d24c74b4fbe90ad71c3f8b": {
      "model_module": "@jupyter-widgets/base",
      "model_module_version": "1.0.0",
      "model_name": "LayoutModel",
      "state": {}
     },
     "0c365e74f19346fdb7b858010559edb6": {
      "model_module": "@jupyter-widgets/base",
      "model_module_version": "1.0.0",
      "model_name": "LayoutModel",
      "state": {}
     },
     "0cc38966ea6146ee924205e780128077": {
      "model_module": "@jupyter-widgets/controls",
      "model_module_version": "1.2.0",
      "model_name": "ButtonModel",
      "state": {
       "button_style": "info",
       "description": "Check Answer",
       "layout": "IPY_MODEL_9958d653a5de437095dfe03f48ca6a63",
       "style": "IPY_MODEL_1d8285badbda4d14880b1f5407a6ca90"
      }
     },
     "0d25b64393744eaf8c9c88c86fd88e46": {
      "model_module": "@jupyter-widgets/controls",
      "model_module_version": "1.2.0",
      "model_name": "DescriptionStyleModel",
      "state": {
       "description_width": ""
      }
     },
     "0dbbdc5d657c4ae3813d03b5f35e757a": {
      "model_module": "@jupyter-widgets/controls",
      "model_module_version": "1.2.0",
      "model_name": "ButtonStyleModel",
      "state": {}
     },
     "0e2b4d79c2c24ce1b225cd054af0bf93": {
      "model_module": "@jupyter-widgets/controls",
      "model_module_version": "1.2.0",
      "model_name": "LabelModel",
      "state": {
       "layout": "IPY_MODEL_add202e75983457abc4fe8e2841a6a43",
       "style": "IPY_MODEL_e2b0904fa587469299b79894edf56010"
      }
     },
     "0e4a35f3810f43b882ca28bb00f97956": {
      "model_module": "@jupyter-widgets/base",
      "model_module_version": "1.0.0",
      "model_name": "LayoutModel",
      "state": {}
     },
     "0f44693733b84594b9552fb2da4ccecf": {
      "model_module": "@jupyter-widgets/controls",
      "model_module_version": "1.2.0",
      "model_name": "DescriptionStyleModel",
      "state": {
       "description_width": ""
      }
     },
     "10e392d359114630819d31a7a296f957": {
      "model_module": "@jupyter-widgets/controls",
      "model_module_version": "1.2.0",
      "model_name": "DescriptionStyleModel",
      "state": {
       "description_width": ""
      }
     },
     "119b2c56963c47ea8d302294c9bf47b5": {
      "model_module": "@jupyter-widgets/controls",
      "model_module_version": "1.2.0",
      "model_name": "DescriptionStyleModel",
      "state": {
       "description_width": ""
      }
     },
     "11d2e9936e1f48fdb8e0649421b5a217": {
      "model_module": "@jupyter-widgets/controls",
      "model_module_version": "1.2.0",
      "model_name": "ButtonStyleModel",
      "state": {}
     },
     "148f764411924ada8c289207d891211e": {
      "model_module": "@jupyter-widgets/base",
      "model_module_version": "1.0.0",
      "model_name": "LayoutModel",
      "state": {}
     },
     "153b90da44a6491bb8ad483d67b9ceb1": {
      "model_module": "@jupyter-widgets/controls",
      "model_module_version": "1.2.0",
      "model_name": "ButtonModel",
      "state": {
       "button_style": "info",
       "description": "Check Answer",
       "layout": "IPY_MODEL_a33c023005234a9d801a4ef1323606d5",
       "style": "IPY_MODEL_667f057e603c45429f27de7497e9874a"
      }
     },
     "160601929fe84ed3894ff17c1a2c753e": {
      "model_module": "@jupyter-widgets/controls",
      "model_module_version": "1.2.0",
      "model_name": "DescriptionStyleModel",
      "state": {
       "description_width": ""
      }
     },
     "1755867d1d934b548423ee00ffbfb2a2": {
      "model_module": "@jupyter-widgets/controls",
      "model_module_version": "1.2.0",
      "model_name": "ButtonModel",
      "state": {
       "button_style": "danger",
       "description": "Save and Submit",
       "layout": "IPY_MODEL_d81dacab4e0148a687fbb2f5c93d87fa",
       "style": "IPY_MODEL_ec75fbcbc8534b59bf25de2a5c9e0cfa"
      }
     },
     "18ef773acd134ad2b534b608a839159c": {
      "model_module": "@jupyter-widgets/controls",
      "model_module_version": "1.2.0",
      "model_name": "TextareaModel",
      "state": {
       "layout": "IPY_MODEL_9c9349322056468d827fcb3ffb2c5b16",
       "placeholder": "Please enter a short paragraph answer here ...",
       "rows": 5,
       "style": "IPY_MODEL_24281e63c4364c8e93784c49fcc27c9a"
      }
     },
     "19436d3d7e4f4572b5ef4ec84637fe37": {
      "model_module": "@jupyter-widgets/controls",
      "model_module_version": "1.2.0",
      "model_name": "DescriptionStyleModel",
      "state": {
       "description_width": ""
      }
     },
     "1a24fdff25ba46998d0bc506330dad61": {
      "model_module": "@jupyter-widgets/controls",
      "model_module_version": "1.2.0",
      "model_name": "LabelModel",
      "state": {
       "layout": "IPY_MODEL_d36e150afdb8459a8461585bfedc1cda",
       "style": "IPY_MODEL_19436d3d7e4f4572b5ef4ec84637fe37"
      }
     },
     "1b775432112a4b9b94ef37aef3acb03d": {
      "model_module": "@jupyter-widgets/controls",
      "model_module_version": "1.2.0",
      "model_name": "TextareaModel",
      "state": {
       "layout": "IPY_MODEL_5b6127188b7e4c41822ef17b9fed21d0",
       "placeholder": "Please enter a short paragraph answer here ...",
       "rows": 5,
       "style": "IPY_MODEL_a160bd5833fc4864b2fd8b70d46a38ce"
      }
     },
     "1bd95a0f52d44482bd77864d39d8571a": {
      "model_module": "@jupyter-widgets/controls",
      "model_module_version": "1.2.0",
      "model_name": "DescriptionStyleModel",
      "state": {
       "description_width": ""
      }
     },
     "1cb0204df4d64695aaa4c08bb11418c3": {
      "model_module": "@jupyter-widgets/controls",
      "model_module_version": "1.2.0",
      "model_name": "TextareaModel",
      "state": {
       "layout": "IPY_MODEL_51679994f69748f4ac7b56e321c02fe8",
       "placeholder": "Please enter a short paragraph answer here ...",
       "rows": 5,
       "style": "IPY_MODEL_cf7ceac4a5a14d75a35dbb38a4cb2b8c"
      }
     },
     "1cd325a989fa4f5ab895ec60733d282c": {
      "model_module": "@jupyter-widgets/base",
      "model_module_version": "1.0.0",
      "model_name": "LayoutModel",
      "state": {}
     },
     "1d3776dba1794ff88b7b0df93d5bc879": {
      "model_module": "@jupyter-widgets/controls",
      "model_module_version": "1.2.0",
      "model_name": "TextareaModel",
      "state": {
       "layout": "IPY_MODEL_c4e0bdfd00c245cf930f7441a19fbb73",
       "placeholder": "Please enter a short paragraph answer here ...",
       "rows": 5,
       "style": "IPY_MODEL_ba81c086af3b4f40972282d6bb70cb1d"
      }
     },
     "1d8285badbda4d14880b1f5407a6ca90": {
      "model_module": "@jupyter-widgets/controls",
      "model_module_version": "1.2.0",
      "model_name": "ButtonStyleModel",
      "state": {}
     },
     "1e292936de374ca4a0c4af67f938538a": {
      "model_module": "@jupyter-widgets/controls",
      "model_module_version": "1.2.0",
      "model_name": "DescriptionStyleModel",
      "state": {
       "description_width": ""
      }
     },
     "1e2cdd9d4d5b4e3e9c1b60d79b6d833d": {
      "model_module": "@jupyter-widgets/base",
      "model_module_version": "1.0.0",
      "model_name": "LayoutModel",
      "state": {}
     },
     "1f8297f9a2904784976c36047f960b0c": {
      "model_module": "@jupyter-widgets/base",
      "model_module_version": "1.0.0",
      "model_name": "LayoutModel",
      "state": {}
     },
     "21d40cf22fc441b48d0d61a9b54a3246": {
      "model_module": "@jupyter-widgets/controls",
      "model_module_version": "1.2.0",
      "model_name": "ButtonStyleModel",
      "state": {}
     },
     "2220e21a8816466aab045f1cdb2e55a4": {
      "model_module": "@jupyter-widgets/base",
      "model_module_version": "1.0.0",
      "model_name": "LayoutModel",
      "state": {}
     },
     "22367430835b4c40a3d5071bf69a629e": {
      "model_module": "@jupyter-widgets/controls",
      "model_module_version": "1.2.0",
      "model_name": "ButtonStyleModel",
      "state": {}
     },
     "226dea896da4412fafddf5b2bfbed8fc": {
      "model_module": "@jupyter-widgets/base",
      "model_module_version": "1.0.0",
      "model_name": "LayoutModel",
      "state": {}
     },
     "227b309b275b42beb8d101a09cf95f37": {
      "model_module": "@jupyter-widgets/controls",
      "model_module_version": "1.2.0",
      "model_name": "ButtonModel",
      "state": {
       "button_style": "info",
       "description": "Check Answer",
       "layout": "IPY_MODEL_9084f9efab0a474ab2f491ca5e273b95",
       "style": "IPY_MODEL_434985a6c9d942daab93aba695397847"
      }
     },
     "23330abb6fdb48afad40cfbfb0b43959": {
      "model_module": "@jupyter-widgets/base",
      "model_module_version": "1.0.0",
      "model_name": "LayoutModel",
      "state": {}
     },
     "23cbd7317c594f988cb923be5f6345c8": {
      "model_module": "@jupyter-widgets/controls",
      "model_module_version": "1.2.0",
      "model_name": "TextareaModel",
      "state": {
       "layout": "IPY_MODEL_e189770564ad495da1cbca3e07d95dc8",
       "placeholder": "Please enter a short paragraph answer here ...",
       "rows": 5,
       "style": "IPY_MODEL_eafc1e3efb7649199de7cc134f4a20e9",
       "value": "ddd"
      }
     },
     "24281e63c4364c8e93784c49fcc27c9a": {
      "model_module": "@jupyter-widgets/controls",
      "model_module_version": "1.2.0",
      "model_name": "DescriptionStyleModel",
      "state": {
       "description_width": ""
      }
     },
     "242fcfa6c5744195831e718b5e4d0d43": {
      "model_module": "@jupyter-widgets/base",
      "model_module_version": "1.0.0",
      "model_name": "LayoutModel",
      "state": {}
     },
     "2bf2d9b5172342bba0f9db1c38821c17": {
      "model_module": "@jupyter-widgets/controls",
      "model_module_version": "1.2.0",
      "model_name": "DescriptionStyleModel",
      "state": {
       "description_width": ""
      }
     },
     "2d4eb87c1e1b404eafab1c57bbf34af0": {
      "model_module": "@jupyter-widgets/controls",
      "model_module_version": "1.2.0",
      "model_name": "ButtonModel",
      "state": {
       "button_style": "info",
       "description": "Check Answer",
       "layout": "IPY_MODEL_657355211e3d49af8b47dd520106a41c",
       "style": "IPY_MODEL_f01381c724bd4e5d9248acb2bc0cd24d"
      }
     },
     "2dec82fb4f07432ea43c04dc0246f4f9": {
      "model_module": "@jupyter-widgets/controls",
      "model_module_version": "1.2.0",
      "model_name": "TextareaModel",
      "state": {
       "layout": "IPY_MODEL_658ed5a6ef9744ccbcc7e2c707856d78",
       "placeholder": "Please enter a short paragraph answer here ...",
       "rows": 5,
       "style": "IPY_MODEL_67afc4a4ac354d66a72778dffda58b2b"
      }
     },
     "2e0dd90090ec4be29ed553327d18ee2b": {
      "model_module": "@jupyter-widgets/base",
      "model_module_version": "1.0.0",
      "model_name": "LayoutModel",
      "state": {}
     },
     "2ef33995e1624741b5491831952c84a3": {
      "model_module": "@jupyter-widgets/controls",
      "model_module_version": "1.2.0",
      "model_name": "ButtonStyleModel",
      "state": {}
     },
     "2f84b44bcb384b95b253406d19c72a71": {
      "model_module": "@jupyter-widgets/controls",
      "model_module_version": "1.2.0",
      "model_name": "ButtonModel",
      "state": {
       "button_style": "info",
       "description": "Check Answer",
       "layout": "IPY_MODEL_0bdef2f8d4d24c74b4fbe90ad71c3f8b",
       "style": "IPY_MODEL_fea7ee40f6dc48788c8857d085ebaa82"
      }
     },
     "313239c5ce844008bcca99e8186a297a": {
      "model_module": "@jupyter-widgets/base",
      "model_module_version": "1.0.0",
      "model_name": "LayoutModel",
      "state": {}
     },
     "3458fb14ef304269b8721e573a2020f1": {
      "model_module": "@jupyter-widgets/controls",
      "model_module_version": "1.2.0",
      "model_name": "LabelModel",
      "state": {
       "layout": "IPY_MODEL_e66d6e4abafc4c4480a0943c1bf4e51c",
       "style": "IPY_MODEL_57e33a6c0e0b42ad83d7ac6d578060df"
      }
     },
     "359e34b7ab174dc8813e6159fb7fe8ec": {
      "model_module": "@jupyter-widgets/controls",
      "model_module_version": "1.2.0",
      "model_name": "LabelModel",
      "state": {
       "layout": "IPY_MODEL_af94dd2823394e1f9b43dce83ad7caf6",
       "style": "IPY_MODEL_78282b2415fb4db395e02d5070edcac7"
      }
     },
     "3924c9601b29465695b3edafff4a236f": {
      "model_module": "@jupyter-widgets/controls",
      "model_module_version": "1.2.0",
      "model_name": "ButtonStyleModel",
      "state": {}
     },
     "39ce9fe9ac9b4e0da50f1692bb24bc3b": {
      "model_module": "@jupyter-widgets/controls",
      "model_module_version": "1.2.0",
      "model_name": "DescriptionStyleModel",
      "state": {
       "description_width": ""
      }
     },
     "3b3941a76f424a6885923ac9eb70ac98": {
      "model_module": "@jupyter-widgets/controls",
      "model_module_version": "1.2.0",
      "model_name": "DescriptionStyleModel",
      "state": {
       "description_width": ""
      }
     },
     "3cb4fc9217d54bebb2841df27c44bf10": {
      "model_module": "@jupyter-widgets/controls",
      "model_module_version": "1.2.0",
      "model_name": "TextareaModel",
      "state": {
       "layout": "IPY_MODEL_a0a3ad365b8a436db612d6ca8f8a59d4",
       "placeholder": "Please enter a short paragraph answer here ...",
       "rows": 5,
       "style": "IPY_MODEL_9e0607c3e12b49e296c9782055770f56"
      }
     },
     "3ce91a5eff2740ad8662b1d4d5d41311": {
      "model_module": "@jupyter-widgets/controls",
      "model_module_version": "1.2.0",
      "model_name": "DescriptionStyleModel",
      "state": {
       "description_width": ""
      }
     },
     "3d02d8f3dd3d4eff9d429228a8a28233": {
      "model_module": "@jupyter-widgets/base",
      "model_module_version": "1.0.0",
      "model_name": "LayoutModel",
      "state": {}
     },
     "3db7b0eb7ba1472ea0d0d180875716bd": {
      "model_module": "@jupyter-widgets/controls",
      "model_module_version": "1.2.0",
      "model_name": "TextareaModel",
      "state": {
       "layout": "IPY_MODEL_780857f01e7341bea03efe7cb6ba0499",
       "placeholder": "Please enter a short paragraph answer here ...",
       "rows": 5,
       "style": "IPY_MODEL_068ff7728898499196032dd469bcfba3"
      }
     },
     "3e399c0a469c4cd897432b49ceb33191": {
      "model_module": "@jupyter-widgets/controls",
      "model_module_version": "1.2.0",
      "model_name": "ButtonModel",
      "state": {
       "button_style": "danger",
       "description": "Save and Submit",
       "layout": "IPY_MODEL_410d8be52af84f9792ac82adf4cf59f5",
       "style": "IPY_MODEL_a7c7aa1ca0f94017b72073856dcb855b"
      }
     },
     "3ffa72ae39a64ad5abfd6dcdf4788480": {
      "model_module": "@jupyter-widgets/controls",
      "model_module_version": "1.2.0",
      "model_name": "TextareaModel",
      "state": {
       "layout": "IPY_MODEL_a5548a8d331741b18262d89d5e0be09a",
       "placeholder": "Please enter a short paragraph answer here ...",
       "rows": 5,
       "style": "IPY_MODEL_57eb007c51224ca7b34fdbd28e4615b4"
      }
     },
     "410d8be52af84f9792ac82adf4cf59f5": {
      "model_module": "@jupyter-widgets/base",
      "model_module_version": "1.0.0",
      "model_name": "LayoutModel",
      "state": {}
     },
     "415db341960b410f9eae3ea3d3b6ea80": {
      "model_module": "@jupyter-widgets/controls",
      "model_module_version": "1.2.0",
      "model_name": "ButtonModel",
      "state": {
       "button_style": "info",
       "description": "Check Answer",
       "layout": "IPY_MODEL_a87a5d77ebf24fec9c74e71a914886c5",
       "style": "IPY_MODEL_befd25ebc14e4c65bfcac2d7a7ffd49c"
      }
     },
     "416451a454f54afda2c8485296274f65": {
      "model_module": "@jupyter-widgets/controls",
      "model_module_version": "1.2.0",
      "model_name": "ButtonModel",
      "state": {
       "button_style": "info",
       "description": "Check Answer",
       "layout": "IPY_MODEL_50571938cd954f358bb812559b9714b9",
       "style": "IPY_MODEL_63c70959a73548cb9f35d6abe59ee4bb"
      }
     },
     "42b08dec9fb2468a9deac6047244e234": {
      "model_module": "@jupyter-widgets/controls",
      "model_module_version": "1.2.0",
      "model_name": "LabelModel",
      "state": {
       "layout": "IPY_MODEL_2e0dd90090ec4be29ed553327d18ee2b",
       "style": "IPY_MODEL_9c05f526c1e5403ea9b7664a57565cd4"
      }
     },
     "42dc45b6386a49f984c6f4b5a691dfed": {
      "model_module": "@jupyter-widgets/controls",
      "model_module_version": "1.2.0",
      "model_name": "ButtonStyleModel",
      "state": {}
     },
     "434985a6c9d942daab93aba695397847": {
      "model_module": "@jupyter-widgets/controls",
      "model_module_version": "1.2.0",
      "model_name": "ButtonStyleModel",
      "state": {}
     },
     "4731ac3956fd4e4cb99dc69a44ae0192": {
      "model_module": "@jupyter-widgets/base",
      "model_module_version": "1.0.0",
      "model_name": "LayoutModel",
      "state": {}
     },
     "47f9d6cca51a4f75aa59796a93f778bc": {
      "model_module": "@jupyter-widgets/controls",
      "model_module_version": "1.2.0",
      "model_name": "ButtonStyleModel",
      "state": {}
     },
     "4823665c13bf4d3788296c755a48c9a7": {
      "model_module": "@jupyter-widgets/controls",
      "model_module_version": "1.2.0",
      "model_name": "ButtonStyleModel",
      "state": {}
     },
     "4960c031eded4d918e00faaf8e07854d": {
      "model_module": "@jupyter-widgets/base",
      "model_module_version": "1.0.0",
      "model_name": "LayoutModel",
      "state": {}
     },
     "4cfa9e2349404edeb46d3172c0de4584": {
      "model_module": "@jupyter-widgets/controls",
      "model_module_version": "1.2.0",
      "model_name": "LabelModel",
      "state": {
       "layout": "IPY_MODEL_fae670284c8e4a38bbb71cab4f5c8b1d",
       "style": "IPY_MODEL_2bf2d9b5172342bba0f9db1c38821c17"
      }
     },
     "4d381a10e87c4e48885da6abf83891d6": {
      "model_module": "@jupyter-widgets/controls",
      "model_module_version": "1.2.0",
      "model_name": "TextareaModel",
      "state": {
       "layout": "IPY_MODEL_1cd325a989fa4f5ab895ec60733d282c",
       "placeholder": "Please enter a short paragraph answer here ...",
       "rows": 5,
       "style": "IPY_MODEL_66f1130c98944fd18508abdfaa2f2319"
      }
     },
     "4dc36bc4f0fd4e83bbb7bede9f34f75b": {
      "model_module": "@jupyter-widgets/controls",
      "model_module_version": "1.2.0",
      "model_name": "DescriptionStyleModel",
      "state": {
       "description_width": ""
      }
     },
     "4e4b479819374cee9ac5fae606e5dda9": {
      "model_module": "@jupyter-widgets/controls",
      "model_module_version": "1.2.0",
      "model_name": "TextareaModel",
      "state": {
       "layout": "IPY_MODEL_6400cc96b87d40e49a802df1b7a5a0b7",
       "placeholder": "Please enter a short paragraph answer here ...",
       "rows": 5,
       "style": "IPY_MODEL_db4473d6b05f4ac9b56a21527b9aab06"
      }
     },
     "50571938cd954f358bb812559b9714b9": {
      "model_module": "@jupyter-widgets/base",
      "model_module_version": "1.0.0",
      "model_name": "LayoutModel",
      "state": {}
     },
     "513f4cef363b4ebaaff403efb2b460a8": {
      "model_module": "@jupyter-widgets/controls",
      "model_module_version": "1.2.0",
      "model_name": "LabelModel",
      "state": {
       "layout": "IPY_MODEL_c25629c6d4a046d1a2b950c685e58154",
       "style": "IPY_MODEL_e5c38b7cc4724822b626f894ec5ecb55"
      }
     },
     "51679994f69748f4ac7b56e321c02fe8": {
      "model_module": "@jupyter-widgets/base",
      "model_module_version": "1.0.0",
      "model_name": "LayoutModel",
      "state": {}
     },
     "51902d8f463a4b2bb27d6e519d3e3fa4": {
      "model_module": "@jupyter-widgets/controls",
      "model_module_version": "1.2.0",
      "model_name": "DescriptionStyleModel",
      "state": {
       "description_width": ""
      }
     },
     "51bd55cc0275475c8cd6409ce22c6393": {
      "model_module": "@jupyter-widgets/controls",
      "model_module_version": "1.2.0",
      "model_name": "ButtonModel",
      "state": {
       "button_style": "info",
       "description": "Check Answer",
       "layout": "IPY_MODEL_52575e6c41af4a38848c359c8f093693",
       "style": "IPY_MODEL_9e5238dbe59748109ca2cb670af6a70b"
      }
     },
     "52575e6c41af4a38848c359c8f093693": {
      "model_module": "@jupyter-widgets/base",
      "model_module_version": "1.0.0",
      "model_name": "LayoutModel",
      "state": {}
     },
     "5340e5facadb4ccaa24ac65f937795d1": {
      "model_module": "@jupyter-widgets/controls",
      "model_module_version": "1.2.0",
      "model_name": "ButtonModel",
      "state": {
       "button_style": "danger",
       "description": "Save and Submit",
       "layout": "IPY_MODEL_0c365e74f19346fdb7b858010559edb6",
       "style": "IPY_MODEL_42dc45b6386a49f984c6f4b5a691dfed"
      }
     },
     "539c487793b3416fa31eab97a5a0724f": {
      "model_module": "@jupyter-widgets/controls",
      "model_module_version": "1.2.0",
      "model_name": "DescriptionStyleModel",
      "state": {
       "description_width": ""
      }
     },
     "53bdb4f51d8f4b70b0927cdf61ce3f88": {
      "model_module": "@jupyter-widgets/base",
      "model_module_version": "1.0.0",
      "model_name": "LayoutModel",
      "state": {}
     },
     "57932214feae488189a14c9b8a7b46c8": {
      "model_module": "@jupyter-widgets/controls",
      "model_module_version": "1.2.0",
      "model_name": "TextareaModel",
      "state": {
       "layout": "IPY_MODEL_af31c857a9e44c35a4382046a5e3e375",
       "placeholder": "Please enter a short paragraph answer here ...",
       "rows": 5,
       "style": "IPY_MODEL_6265ac8fabca44b681f28e07912a1147"
      }
     },
     "57e33a6c0e0b42ad83d7ac6d578060df": {
      "model_module": "@jupyter-widgets/controls",
      "model_module_version": "1.2.0",
      "model_name": "DescriptionStyleModel",
      "state": {
       "description_width": ""
      }
     },
     "57eb007c51224ca7b34fdbd28e4615b4": {
      "model_module": "@jupyter-widgets/controls",
      "model_module_version": "1.2.0",
      "model_name": "DescriptionStyleModel",
      "state": {
       "description_width": ""
      }
     },
     "5877523ef80246a8bfc45654f2ec757a": {
      "model_module": "@jupyter-widgets/base",
      "model_module_version": "1.0.0",
      "model_name": "LayoutModel",
      "state": {}
     },
     "591c73b968684e659e0597d7a28276a0": {
      "model_module": "@jupyter-widgets/controls",
      "model_module_version": "1.2.0",
      "model_name": "DescriptionStyleModel",
      "state": {
       "description_width": ""
      }
     },
     "597149bc3d4c476a92c479723dcc5cc6": {
      "model_module": "@jupyter-widgets/controls",
      "model_module_version": "1.2.0",
      "model_name": "ButtonStyleModel",
      "state": {}
     },
     "598db0f4067a4d85b833b116a8ac7354": {
      "model_module": "@jupyter-widgets/controls",
      "model_module_version": "1.2.0",
      "model_name": "TextareaModel",
      "state": {
       "layout": "IPY_MODEL_4731ac3956fd4e4cb99dc69a44ae0192",
       "placeholder": "Please enter a short paragraph answer here ...",
       "rows": 5,
       "style": "IPY_MODEL_1bd95a0f52d44482bd77864d39d8571a"
      }
     },
     "5b6127188b7e4c41822ef17b9fed21d0": {
      "model_module": "@jupyter-widgets/base",
      "model_module_version": "1.0.0",
      "model_name": "LayoutModel",
      "state": {}
     },
     "5bcb07abf1e44e2fac7a9454995b0afb": {
      "model_module": "@jupyter-widgets/controls",
      "model_module_version": "1.2.0",
      "model_name": "LabelModel",
      "state": {
       "layout": "IPY_MODEL_5f4f8527a5374631bafb55fd891c6c2a",
       "style": "IPY_MODEL_02dcc12413f24ba58b3cef9615c62351"
      }
     },
     "5dfcadbc19764479a312236d6f053c72": {
      "model_module": "@jupyter-widgets/controls",
      "model_module_version": "1.2.0",
      "model_name": "ButtonModel",
      "state": {
       "button_style": "info",
       "description": "Check Answer",
       "layout": "IPY_MODEL_a1002314e18948368996cdfadcdf189a",
       "style": "IPY_MODEL_8045e98ee8994fd3a3ec54118396ee31"
      }
     },
     "5e3dd554994543d1a347d647d12100ec": {
      "model_module": "@jupyter-widgets/controls",
      "model_module_version": "1.2.0",
      "model_name": "ButtonModel",
      "state": {
       "button_style": "danger",
       "description": "Save and Submit",
       "layout": "IPY_MODEL_7643c11c1c404c988c4b2760b833ae11",
       "style": "IPY_MODEL_47f9d6cca51a4f75aa59796a93f778bc"
      }
     },
     "5ec35cdd7a7a45a3a7cbcbfd8096115c": {
      "model_module": "@jupyter-widgets/controls",
      "model_module_version": "1.2.0",
      "model_name": "DescriptionStyleModel",
      "state": {
       "description_width": ""
      }
     },
     "5f4f8527a5374631bafb55fd891c6c2a": {
      "model_module": "@jupyter-widgets/base",
      "model_module_version": "1.0.0",
      "model_name": "LayoutModel",
      "state": {}
     },
     "60479ca762fc4c2487ae13e55910608a": {
      "model_module": "@jupyter-widgets/controls",
      "model_module_version": "1.2.0",
      "model_name": "ButtonModel",
      "state": {
       "button_style": "info",
       "description": "Check Answer",
       "layout": "IPY_MODEL_842bcbe42f6448729d82a32a9a7164dc",
       "style": "IPY_MODEL_c6929150bdaa46449b4360b63971dffc"
      }
     },
     "6212f3b45cd14df1b9a8801ae2c96958": {
      "model_module": "@jupyter-widgets/base",
      "model_module_version": "1.0.0",
      "model_name": "LayoutModel",
      "state": {}
     },
     "6265ac8fabca44b681f28e07912a1147": {
      "model_module": "@jupyter-widgets/controls",
      "model_module_version": "1.2.0",
      "model_name": "DescriptionStyleModel",
      "state": {
       "description_width": ""
      }
     },
     "62a4fc134d604930bf031a841ecc4475": {
      "model_module": "@jupyter-widgets/controls",
      "model_module_version": "1.2.0",
      "model_name": "TextareaModel",
      "state": {
       "layout": "IPY_MODEL_ccb48a1d9b004da3bd6375c3426f0944",
       "placeholder": "Please enter a short paragraph answer here ...",
       "rows": 5,
       "style": "IPY_MODEL_6f650c66e9634a6d84bc15a3b6630505"
      }
     },
     "63b29306cfb343158c09aa156f661258": {
      "model_module": "@jupyter-widgets/base",
      "model_module_version": "1.0.0",
      "model_name": "LayoutModel",
      "state": {}
     },
     "63c70959a73548cb9f35d6abe59ee4bb": {
      "model_module": "@jupyter-widgets/controls",
      "model_module_version": "1.2.0",
      "model_name": "ButtonStyleModel",
      "state": {}
     },
     "6400cc96b87d40e49a802df1b7a5a0b7": {
      "model_module": "@jupyter-widgets/base",
      "model_module_version": "1.0.0",
      "model_name": "LayoutModel",
      "state": {}
     },
     "657355211e3d49af8b47dd520106a41c": {
      "model_module": "@jupyter-widgets/base",
      "model_module_version": "1.0.0",
      "model_name": "LayoutModel",
      "state": {}
     },
     "658ed5a6ef9744ccbcc7e2c707856d78": {
      "model_module": "@jupyter-widgets/base",
      "model_module_version": "1.0.0",
      "model_name": "LayoutModel",
      "state": {}
     },
     "667f057e603c45429f27de7497e9874a": {
      "model_module": "@jupyter-widgets/controls",
      "model_module_version": "1.2.0",
      "model_name": "ButtonStyleModel",
      "state": {}
     },
     "66d9680add344f07924bbdb69e640da4": {
      "model_module": "@jupyter-widgets/base",
      "model_module_version": "1.0.0",
      "model_name": "LayoutModel",
      "state": {}
     },
     "66f1130c98944fd18508abdfaa2f2319": {
      "model_module": "@jupyter-widgets/controls",
      "model_module_version": "1.2.0",
      "model_name": "DescriptionStyleModel",
      "state": {
       "description_width": ""
      }
     },
     "67afc4a4ac354d66a72778dffda58b2b": {
      "model_module": "@jupyter-widgets/controls",
      "model_module_version": "1.2.0",
      "model_name": "DescriptionStyleModel",
      "state": {
       "description_width": ""
      }
     },
     "6874a0108f2247289b60e43e7b69387e": {
      "model_module": "@jupyter-widgets/controls",
      "model_module_version": "1.2.0",
      "model_name": "DescriptionStyleModel",
      "state": {
       "description_width": ""
      }
     },
     "693ae52f827a4d24a638da838893e227": {
      "model_module": "@jupyter-widgets/controls",
      "model_module_version": "1.2.0",
      "model_name": "DescriptionStyleModel",
      "state": {
       "description_width": ""
      }
     },
     "6bfbfd1ad19a46e1911538c1af1a4c14": {
      "model_module": "@jupyter-widgets/controls",
      "model_module_version": "1.2.0",
      "model_name": "ButtonModel",
      "state": {
       "button_style": "danger",
       "description": "Save and Submit",
       "layout": "IPY_MODEL_dc11c1b00cf04d9eb98913f8a6b6ca02",
       "style": "IPY_MODEL_22367430835b4c40a3d5071bf69a629e"
      }
     },
     "6e17fbfed5aa4bf790549e328db7b205": {
      "model_module": "@jupyter-widgets/controls",
      "model_module_version": "1.2.0",
      "model_name": "LabelModel",
      "state": {
       "layout": "IPY_MODEL_d0fd1882e41f47dfb05d7196ada03edf",
       "style": "IPY_MODEL_07cad25fe848489db458f5a8493a4be6"
      }
     },
     "6e23c388446e4b28b278c66269469adb": {
      "model_module": "@jupyter-widgets/controls",
      "model_module_version": "1.2.0",
      "model_name": "ButtonModel",
      "state": {
       "button_style": "info",
       "description": "Check Answer",
       "layout": "IPY_MODEL_1f8297f9a2904784976c36047f960b0c",
       "style": "IPY_MODEL_597149bc3d4c476a92c479723dcc5cc6"
      }
     },
     "6f650c66e9634a6d84bc15a3b6630505": {
      "model_module": "@jupyter-widgets/controls",
      "model_module_version": "1.2.0",
      "model_name": "DescriptionStyleModel",
      "state": {
       "description_width": ""
      }
     },
     "6fd7d78e9cce4970bc2b5f976ef816d4": {
      "model_module": "@jupyter-widgets/base",
      "model_module_version": "1.0.0",
      "model_name": "LayoutModel",
      "state": {}
     },
     "70079da8b5a7451c93425691045d7a4e": {
      "model_module": "@jupyter-widgets/controls",
      "model_module_version": "1.2.0",
      "model_name": "DescriptionStyleModel",
      "state": {
       "description_width": ""
      }
     },
     "70eda523908c4073bde5d0e278ea4b63": {
      "model_module": "@jupyter-widgets/controls",
      "model_module_version": "1.2.0",
      "model_name": "ButtonStyleModel",
      "state": {}
     },
     "7184e7ac5c0144eeae70a6f93757808d": {
      "model_module": "@jupyter-widgets/controls",
      "model_module_version": "1.2.0",
      "model_name": "DescriptionStyleModel",
      "state": {
       "description_width": ""
      }
     },
     "7643c11c1c404c988c4b2760b833ae11": {
      "model_module": "@jupyter-widgets/base",
      "model_module_version": "1.0.0",
      "model_name": "LayoutModel",
      "state": {}
     },
     "766f40807a6048d3b311f197e3459a5d": {
      "model_module": "@jupyter-widgets/base",
      "model_module_version": "1.0.0",
      "model_name": "LayoutModel",
      "state": {}
     },
     "76bc24cfa8cc4f88ad1c67ca874d57f2": {
      "model_module": "@jupyter-widgets/controls",
      "model_module_version": "1.2.0",
      "model_name": "LabelModel",
      "state": {
       "layout": "IPY_MODEL_a1360e7a18a04c5a861f0109301d9c7a",
       "style": "IPY_MODEL_6874a0108f2247289b60e43e7b69387e"
      }
     },
     "77a9b9c174c54255936613b4b482519a": {
      "model_module": "@jupyter-widgets/controls",
      "model_module_version": "1.2.0",
      "model_name": "ButtonStyleModel",
      "state": {}
     },
     "780857f01e7341bea03efe7cb6ba0499": {
      "model_module": "@jupyter-widgets/base",
      "model_module_version": "1.0.0",
      "model_name": "LayoutModel",
      "state": {}
     },
     "78282b2415fb4db395e02d5070edcac7": {
      "model_module": "@jupyter-widgets/controls",
      "model_module_version": "1.2.0",
      "model_name": "DescriptionStyleModel",
      "state": {
       "description_width": ""
      }
     },
     "78a5ed7e9e3248b18e2ec195acc2b32d": {
      "model_module": "@jupyter-widgets/controls",
      "model_module_version": "1.2.0",
      "model_name": "LabelModel",
      "state": {
       "layout": "IPY_MODEL_fd0853fef0184ef294ecdf129a15b2d6",
       "style": "IPY_MODEL_9752c5a9f5aa4aeabc032ae76acee467"
      }
     },
     "78fba39f46d64f01833f1b15c16503ed": {
      "model_module": "@jupyter-widgets/base",
      "model_module_version": "1.0.0",
      "model_name": "LayoutModel",
      "state": {}
     },
     "793f770c8e23403b93786a2ea7a1d28f": {
      "model_module": "@jupyter-widgets/controls",
      "model_module_version": "1.2.0",
      "model_name": "DescriptionStyleModel",
      "state": {
       "description_width": ""
      }
     },
     "7b67971695864b8ba7a08f15bcf764da": {
      "model_module": "@jupyter-widgets/controls",
      "model_module_version": "1.2.0",
      "model_name": "DescriptionStyleModel",
      "state": {
       "description_width": ""
      }
     },
     "7b99c362fcb147bb92c4d117d195e3f3": {
      "model_module": "@jupyter-widgets/controls",
      "model_module_version": "1.2.0",
      "model_name": "LabelModel",
      "state": {
       "layout": "IPY_MODEL_f54e3d05486b40fc8f46b8ef2b5450c4",
       "style": "IPY_MODEL_119b2c56963c47ea8d302294c9bf47b5"
      }
     },
     "7cf64d968326436f81733a3632959399": {
      "model_module": "@jupyter-widgets/controls",
      "model_module_version": "1.2.0",
      "model_name": "DescriptionStyleModel",
      "state": {
       "description_width": ""
      }
     },
     "7fd105d714234ee39184b37015d5a1df": {
      "model_module": "@jupyter-widgets/controls",
      "model_module_version": "1.2.0",
      "model_name": "ButtonModel",
      "state": {
       "button_style": "info",
       "description": "Check Answer",
       "layout": "IPY_MODEL_0e4a35f3810f43b882ca28bb00f97956",
       "style": "IPY_MODEL_b25a376a75184f3685819727a52c5305"
      }
     },
     "8030a5db999a489cacaf24a9839ea0a3": {
      "model_module": "@jupyter-widgets/base",
      "model_module_version": "1.0.0",
      "model_name": "LayoutModel",
      "state": {}
     },
     "8045e98ee8994fd3a3ec54118396ee31": {
      "model_module": "@jupyter-widgets/controls",
      "model_module_version": "1.2.0",
      "model_name": "ButtonStyleModel",
      "state": {}
     },
     "80d2459d02a94561bf9dcea08d551d5f": {
      "model_module": "@jupyter-widgets/controls",
      "model_module_version": "1.2.0",
      "model_name": "ButtonModel",
      "state": {
       "button_style": "info",
       "description": "Check Answer",
       "layout": "IPY_MODEL_c7a092e7e1a047a6909499c7a34c0090",
       "style": "IPY_MODEL_3924c9601b29465695b3edafff4a236f"
      }
     },
     "8171539c9ca44cdaac77980734a79e65": {
      "model_module": "@jupyter-widgets/controls",
      "model_module_version": "1.2.0",
      "model_name": "ButtonStyleModel",
      "state": {}
     },
     "82ebdae2a353475e800fbdac1e263cb2": {
      "model_module": "@jupyter-widgets/controls",
      "model_module_version": "1.2.0",
      "model_name": "DescriptionStyleModel",
      "state": {
       "description_width": ""
      }
     },
     "83f38f1e507441a1bb9526fc8b75bd33": {
      "model_module": "@jupyter-widgets/controls",
      "model_module_version": "1.2.0",
      "model_name": "ButtonModel",
      "state": {
       "button_style": "danger",
       "description": "Save and Submit",
       "layout": "IPY_MODEL_9c1e6d3eadff48efb915c6af4cb6b160",
       "style": "IPY_MODEL_dfe6f5844c524f0a9f8491d323c1ccf1"
      }
     },
     "8404b4659630453394ce059688b991a5": {
      "model_module": "@jupyter-widgets/base",
      "model_module_version": "1.0.0",
      "model_name": "LayoutModel",
      "state": {}
     },
     "84271d49663247128269968d5fe2a91e": {
      "model_module": "@jupyter-widgets/base",
      "model_module_version": "1.0.0",
      "model_name": "LayoutModel",
      "state": {}
     },
     "842bcbe42f6448729d82a32a9a7164dc": {
      "model_module": "@jupyter-widgets/base",
      "model_module_version": "1.0.0",
      "model_name": "LayoutModel",
      "state": {}
     },
     "86a1274590aa4acaa204262f3f178189": {
      "model_module": "@jupyter-widgets/controls",
      "model_module_version": "1.2.0",
      "model_name": "ButtonModel",
      "state": {
       "button_style": "info",
       "description": "Check Answer",
       "layout": "IPY_MODEL_226dea896da4412fafddf5b2bfbed8fc",
       "style": "IPY_MODEL_8171539c9ca44cdaac77980734a79e65"
      }
     },
     "880e49bd6c294be98cf45d3ec4d8db20": {
      "model_module": "@jupyter-widgets/controls",
      "model_module_version": "1.2.0",
      "model_name": "TextareaModel",
      "state": {
       "layout": "IPY_MODEL_c26ee778d69b405994c815958055d72d",
       "placeholder": "Please enter a short paragraph answer here ...",
       "rows": 5,
       "style": "IPY_MODEL_d8464cbec6394a00a24961fb7e46afd3"
      }
     },
     "886c1530df58465a91834bf949dfc3dd": {
      "model_module": "@jupyter-widgets/controls",
      "model_module_version": "1.2.0",
      "model_name": "ButtonStyleModel",
      "state": {}
     },
     "8f03185f7fda4903ba696d90556cd2f2": {
      "model_module": "@jupyter-widgets/controls",
      "model_module_version": "1.2.0",
      "model_name": "ButtonModel",
      "state": {
       "button_style": "info",
       "description": "Check Answer",
       "layout": "IPY_MODEL_f99a11338e8545ffad706dfd16b74ab2",
       "style": "IPY_MODEL_0dbbdc5d657c4ae3813d03b5f35e757a"
      }
     },
     "9084f9efab0a474ab2f491ca5e273b95": {
      "model_module": "@jupyter-widgets/base",
      "model_module_version": "1.0.0",
      "model_name": "LayoutModel",
      "state": {}
     },
     "92f93a35b6c44c9489771d07fc4a511d": {
      "model_module": "@jupyter-widgets/controls",
      "model_module_version": "1.2.0",
      "model_name": "DescriptionStyleModel",
      "state": {
       "description_width": ""
      }
     },
     "94242057668342a3838868ac70f5bcf8": {
      "model_module": "@jupyter-widgets/controls",
      "model_module_version": "1.2.0",
      "model_name": "TextareaModel",
      "state": {
       "layout": "IPY_MODEL_9dda11979414474e8313ca6b55e032ca",
       "placeholder": "Please enter a short paragraph answer here ...",
       "rows": 5,
       "style": "IPY_MODEL_d2040bf405da4743a592e4a510a439c6"
      }
     },
     "9752c5a9f5aa4aeabc032ae76acee467": {
      "model_module": "@jupyter-widgets/controls",
      "model_module_version": "1.2.0",
      "model_name": "DescriptionStyleModel",
      "state": {
       "description_width": ""
      }
     },
     "97b8f0ea55d94e1ba30de99413dc37be": {
      "model_module": "@jupyter-widgets/base",
      "model_module_version": "1.0.0",
      "model_name": "LayoutModel",
      "state": {}
     },
     "97bdbd84958b4d7ab1afd1f345377352": {
      "model_module": "@jupyter-widgets/controls",
      "model_module_version": "1.2.0",
      "model_name": "LabelModel",
      "state": {
       "layout": "IPY_MODEL_fc7550ba56d14be6b67b0d40207acd60",
       "style": "IPY_MODEL_df2538f9fb6d486cbe405ffbbd809e77"
      }
     },
     "97ded90290e74180bc413332496abfb6": {
      "model_module": "@jupyter-widgets/controls",
      "model_module_version": "1.2.0",
      "model_name": "LabelModel",
      "state": {
       "layout": "IPY_MODEL_e7f16f61bd3743809f623f5df9a3077c",
       "style": "IPY_MODEL_7b67971695864b8ba7a08f15bcf764da"
      }
     },
     "992fff580ab74f898ad436bb6f1219a1": {
      "model_module": "@jupyter-widgets/controls",
      "model_module_version": "1.2.0",
      "model_name": "TextareaModel",
      "state": {
       "layout": "IPY_MODEL_f94cae11200745c79698854d3f2a3185",
       "placeholder": "Please enter a short paragraph answer here ...",
       "rows": 5,
       "style": "IPY_MODEL_9e632994c084403c847261b57f1df8e7"
      }
     },
     "9958d653a5de437095dfe03f48ca6a63": {
      "model_module": "@jupyter-widgets/base",
      "model_module_version": "1.0.0",
      "model_name": "LayoutModel",
      "state": {}
     },
     "9b13f63c85dd455a85324a546347518f": {
      "model_module": "@jupyter-widgets/controls",
      "model_module_version": "1.2.0",
      "model_name": "LabelModel",
      "state": {
       "layout": "IPY_MODEL_8030a5db999a489cacaf24a9839ea0a3",
       "style": "IPY_MODEL_70079da8b5a7451c93425691045d7a4e"
      }
     },
     "9b717a2741f944338859a157139f083c": {
      "model_module": "@jupyter-widgets/controls",
      "model_module_version": "1.2.0",
      "model_name": "DescriptionStyleModel",
      "state": {
       "description_width": ""
      }
     },
     "9c05f526c1e5403ea9b7664a57565cd4": {
      "model_module": "@jupyter-widgets/controls",
      "model_module_version": "1.2.0",
      "model_name": "DescriptionStyleModel",
      "state": {
       "description_width": ""
      }
     },
     "9c1e6d3eadff48efb915c6af4cb6b160": {
      "model_module": "@jupyter-widgets/base",
      "model_module_version": "1.0.0",
      "model_name": "LayoutModel",
      "state": {}
     },
     "9c9349322056468d827fcb3ffb2c5b16": {
      "model_module": "@jupyter-widgets/base",
      "model_module_version": "1.0.0",
      "model_name": "LayoutModel",
      "state": {}
     },
     "9ccbd98a831340408ec63b2af0297e63": {
      "model_module": "@jupyter-widgets/controls",
      "model_module_version": "1.2.0",
      "model_name": "ButtonModel",
      "state": {
       "button_style": "danger",
       "description": "Save and Submit",
       "layout": "IPY_MODEL_cf352b55e4a64a7dad8cc540ea3a989d",
       "style": "IPY_MODEL_e59b47aedb54475681c77e8bd4dc52fa"
      }
     },
     "9dda11979414474e8313ca6b55e032ca": {
      "model_module": "@jupyter-widgets/base",
      "model_module_version": "1.0.0",
      "model_name": "LayoutModel",
      "state": {}
     },
     "9e019d6d07bd4474b2775fb331a84eae": {
      "model_module": "@jupyter-widgets/controls",
      "model_module_version": "1.2.0",
      "model_name": "DescriptionStyleModel",
      "state": {
       "description_width": ""
      }
     },
     "9e0607c3e12b49e296c9782055770f56": {
      "model_module": "@jupyter-widgets/controls",
      "model_module_version": "1.2.0",
      "model_name": "DescriptionStyleModel",
      "state": {
       "description_width": ""
      }
     },
     "9e5238dbe59748109ca2cb670af6a70b": {
      "model_module": "@jupyter-widgets/controls",
      "model_module_version": "1.2.0",
      "model_name": "ButtonStyleModel",
      "state": {}
     },
     "9e632994c084403c847261b57f1df8e7": {
      "model_module": "@jupyter-widgets/controls",
      "model_module_version": "1.2.0",
      "model_name": "DescriptionStyleModel",
      "state": {
       "description_width": ""
      }
     },
     "9edb2407327147e1950dee9033655a6f": {
      "model_module": "@jupyter-widgets/base",
      "model_module_version": "1.0.0",
      "model_name": "LayoutModel",
      "state": {}
     },
     "9f41df7cf214477c93bb2d02259f51b4": {
      "model_module": "@jupyter-widgets/controls",
      "model_module_version": "1.2.0",
      "model_name": "ButtonModel",
      "state": {
       "button_style": "info",
       "description": "Check Answer",
       "layout": "IPY_MODEL_f707ed1934ec4bc5be4147308f5d1af0",
       "style": "IPY_MODEL_11d2e9936e1f48fdb8e0649421b5a217"
      }
     },
     "9f673b01efff4cbc9bee8b0d0fdc0a40": {
      "model_module": "@jupyter-widgets/controls",
      "model_module_version": "1.2.0",
      "model_name": "DescriptionStyleModel",
      "state": {
       "description_width": ""
      }
     },
     "a09453a4a8594655a3d10af250cd7f3a": {
      "model_module": "@jupyter-widgets/controls",
      "model_module_version": "1.2.0",
      "model_name": "ButtonModel",
      "state": {
       "button_style": "info",
       "description": "Check Answer",
       "layout": "IPY_MODEL_84271d49663247128269968d5fe2a91e",
       "style": "IPY_MODEL_a9be91b8bc594b73b3bff990e82c2178"
      }
     },
     "a0a3ad365b8a436db612d6ca8f8a59d4": {
      "model_module": "@jupyter-widgets/base",
      "model_module_version": "1.0.0",
      "model_name": "LayoutModel",
      "state": {}
     },
     "a1002314e18948368996cdfadcdf189a": {
      "model_module": "@jupyter-widgets/base",
      "model_module_version": "1.0.0",
      "model_name": "LayoutModel",
      "state": {}
     },
     "a133b1ed596243dda37c418f6821619b": {
      "model_module": "@jupyter-widgets/controls",
      "model_module_version": "1.2.0",
      "model_name": "ButtonStyleModel",
      "state": {}
     },
     "a1360e7a18a04c5a861f0109301d9c7a": {
      "model_module": "@jupyter-widgets/base",
      "model_module_version": "1.0.0",
      "model_name": "LayoutModel",
      "state": {}
     },
     "a160bd5833fc4864b2fd8b70d46a38ce": {
      "model_module": "@jupyter-widgets/controls",
      "model_module_version": "1.2.0",
      "model_name": "DescriptionStyleModel",
      "state": {
       "description_width": ""
      }
     },
     "a194ed85289d4ff79c95e773fcf1ed4d": {
      "model_module": "@jupyter-widgets/base",
      "model_module_version": "1.0.0",
      "model_name": "LayoutModel",
      "state": {}
     },
     "a30505d24d4d4728bef50ee7b6710714": {
      "model_module": "@jupyter-widgets/controls",
      "model_module_version": "1.2.0",
      "model_name": "LabelModel",
      "state": {
       "layout": "IPY_MODEL_e39c2e3b174b479880bf7f2c668648c0",
       "style": "IPY_MODEL_10e392d359114630819d31a7a296f957"
      }
     },
     "a33c023005234a9d801a4ef1323606d5": {
      "model_module": "@jupyter-widgets/base",
      "model_module_version": "1.0.0",
      "model_name": "LayoutModel",
      "state": {}
     },
     "a35c760c29cd43239d96a43bc59f6137": {
      "model_module": "@jupyter-widgets/controls",
      "model_module_version": "1.2.0",
      "model_name": "ButtonStyleModel",
      "state": {}
     },
     "a45bb45a4bd848e88a982d9dab6631d6": {
      "model_module": "@jupyter-widgets/controls",
      "model_module_version": "1.2.0",
      "model_name": "ButtonModel",
      "state": {
       "button_style": "danger",
       "description": "Save and Submit",
       "layout": "IPY_MODEL_dc1b36d16b084240b7d940cf878da1bd",
       "style": "IPY_MODEL_d416dda1e1314bbbbc86861e9bb57eda"
      }
     },
     "a5548a8d331741b18262d89d5e0be09a": {
      "model_module": "@jupyter-widgets/base",
      "model_module_version": "1.0.0",
      "model_name": "LayoutModel",
      "state": {}
     },
     "a584f275b54c48769da7e9273992a627": {
      "model_module": "@jupyter-widgets/base",
      "model_module_version": "1.0.0",
      "model_name": "LayoutModel",
      "state": {}
     },
     "a6f50417b3b9475f876d0bb10c4e04ba": {
      "model_module": "@jupyter-widgets/controls",
      "model_module_version": "1.2.0",
      "model_name": "LabelModel",
      "state": {
       "layout": "IPY_MODEL_b2c1dcce6b7b4acb960b72a67c501e42",
       "style": "IPY_MODEL_1e292936de374ca4a0c4af67f938538a"
      }
     },
     "a7c7aa1ca0f94017b72073856dcb855b": {
      "model_module": "@jupyter-widgets/controls",
      "model_module_version": "1.2.0",
      "model_name": "ButtonStyleModel",
      "state": {}
     },
     "a87a5d77ebf24fec9c74e71a914886c5": {
      "model_module": "@jupyter-widgets/base",
      "model_module_version": "1.0.0",
      "model_name": "LayoutModel",
      "state": {}
     },
     "a9be91b8bc594b73b3bff990e82c2178": {
      "model_module": "@jupyter-widgets/controls",
      "model_module_version": "1.2.0",
      "model_name": "ButtonStyleModel",
      "state": {}
     },
     "abe572d76f6e460a98b7fb94cd6e0256": {
      "model_module": "@jupyter-widgets/controls",
      "model_module_version": "1.2.0",
      "model_name": "TextareaModel",
      "state": {
       "layout": "IPY_MODEL_313239c5ce844008bcca99e8186a297a",
       "placeholder": "Please enter a short paragraph answer here ...",
       "rows": 5,
       "style": "IPY_MODEL_af5afa00d6e041fcb864bdb5c7819877"
      }
     },
     "ad6fa9e13ce84f2986cf5441419d15f7": {
      "model_module": "@jupyter-widgets/controls",
      "model_module_version": "1.2.0",
      "model_name": "ButtonStyleModel",
      "state": {}
     },
     "add202e75983457abc4fe8e2841a6a43": {
      "model_module": "@jupyter-widgets/base",
      "model_module_version": "1.0.0",
      "model_name": "LayoutModel",
      "state": {}
     },
     "af31c857a9e44c35a4382046a5e3e375": {
      "model_module": "@jupyter-widgets/base",
      "model_module_version": "1.0.0",
      "model_name": "LayoutModel",
      "state": {}
     },
     "af5afa00d6e041fcb864bdb5c7819877": {
      "model_module": "@jupyter-widgets/controls",
      "model_module_version": "1.2.0",
      "model_name": "DescriptionStyleModel",
      "state": {
       "description_width": ""
      }
     },
     "af94dd2823394e1f9b43dce83ad7caf6": {
      "model_module": "@jupyter-widgets/base",
      "model_module_version": "1.0.0",
      "model_name": "LayoutModel",
      "state": {}
     },
     "b25a376a75184f3685819727a52c5305": {
      "model_module": "@jupyter-widgets/controls",
      "model_module_version": "1.2.0",
      "model_name": "ButtonStyleModel",
      "state": {}
     },
     "b25d7c6d653748faa47c43bafffad9a6": {
      "model_module": "@jupyter-widgets/controls",
      "model_module_version": "1.2.0",
      "model_name": "TextareaModel",
      "state": {
       "layout": "IPY_MODEL_3d02d8f3dd3d4eff9d429228a8a28233",
       "placeholder": "Please enter a short paragraph answer here ...",
       "rows": 5,
       "style": "IPY_MODEL_b3e051f1a0c84ed18f2414ad24b1dd37"
      }
     },
     "b287dffc9056466c9ebb85d281fb060b": {
      "model_module": "@jupyter-widgets/base",
      "model_module_version": "1.0.0",
      "model_name": "LayoutModel",
      "state": {}
     },
     "b2c1dcce6b7b4acb960b72a67c501e42": {
      "model_module": "@jupyter-widgets/base",
      "model_module_version": "1.0.0",
      "model_name": "LayoutModel",
      "state": {}
     },
     "b3e051f1a0c84ed18f2414ad24b1dd37": {
      "model_module": "@jupyter-widgets/controls",
      "model_module_version": "1.2.0",
      "model_name": "DescriptionStyleModel",
      "state": {
       "description_width": ""
      }
     },
     "b6f623b3dc04459bb01c0053c05c53db": {
      "model_module": "@jupyter-widgets/controls",
      "model_module_version": "1.2.0",
      "model_name": "TextareaModel",
      "state": {
       "layout": "IPY_MODEL_8404b4659630453394ce059688b991a5",
       "placeholder": "Please enter a short paragraph answer here ...",
       "rows": 5,
       "style": "IPY_MODEL_9b717a2741f944338859a157139f083c",
       "value": "bbbb\n\n\n\n\n\n\n\n\n\n\n\nggggg"
      }
     },
     "b8156db625ad4d388529bae79ecced1b": {
      "model_module": "@jupyter-widgets/base",
      "model_module_version": "1.0.0",
      "model_name": "LayoutModel",
      "state": {}
     },
     "b8634e36128842208c37e52e9712a320": {
      "model_module": "@jupyter-widgets/controls",
      "model_module_version": "1.2.0",
      "model_name": "DescriptionStyleModel",
      "state": {
       "description_width": ""
      }
     },
     "b88d2a5a57a943b480fab5af6e8e9569": {
      "model_module": "@jupyter-widgets/base",
      "model_module_version": "1.0.0",
      "model_name": "LayoutModel",
      "state": {}
     },
     "b95719b41f724b658f204a8293ee1c71": {
      "model_module": "@jupyter-widgets/base",
      "model_module_version": "1.0.0",
      "model_name": "LayoutModel",
      "state": {}
     },
     "ba81c086af3b4f40972282d6bb70cb1d": {
      "model_module": "@jupyter-widgets/controls",
      "model_module_version": "1.2.0",
      "model_name": "DescriptionStyleModel",
      "state": {
       "description_width": ""
      }
     },
     "bcf6e5b272b74a85b8ee475d49b200f1": {
      "model_module": "@jupyter-widgets/base",
      "model_module_version": "1.0.0",
      "model_name": "LayoutModel",
      "state": {}
     },
     "bdef914d3cfd429883d64b545450a640": {
      "model_module": "@jupyter-widgets/controls",
      "model_module_version": "1.2.0",
      "model_name": "LabelModel",
      "state": {
       "layout": "IPY_MODEL_f138f2acae6146c7b9db259cf341f80e",
       "style": "IPY_MODEL_0d25b64393744eaf8c9c88c86fd88e46"
      }
     },
     "be45fc626ff64c72a6060c88f770b3c1": {
      "model_module": "@jupyter-widgets/controls",
      "model_module_version": "1.2.0",
      "model_name": "LabelModel",
      "state": {
       "layout": "IPY_MODEL_4960c031eded4d918e00faaf8e07854d",
       "style": "IPY_MODEL_82ebdae2a353475e800fbdac1e263cb2"
      }
     },
     "befd25ebc14e4c65bfcac2d7a7ffd49c": {
      "model_module": "@jupyter-widgets/controls",
      "model_module_version": "1.2.0",
      "model_name": "ButtonStyleModel",
      "state": {}
     },
     "bfc020a2d8294d1393040b948011f2dd": {
      "model_module": "@jupyter-widgets/controls",
      "model_module_version": "1.2.0",
      "model_name": "DescriptionStyleModel",
      "state": {
       "description_width": ""
      }
     },
     "c04ba62cbd344920802cbd18a9ceb63e": {
      "model_module": "@jupyter-widgets/controls",
      "model_module_version": "1.2.0",
      "model_name": "LabelModel",
      "state": {
       "layout": "IPY_MODEL_fbad3f3b8e64486fa8a6b2e31d8e0e02",
       "style": "IPY_MODEL_7184e7ac5c0144eeae70a6f93757808d"
      }
     },
     "c0912c62cb22450496ebb7a8b5052e1a": {
      "model_module": "@jupyter-widgets/controls",
      "model_module_version": "1.2.0",
      "model_name": "LabelModel",
      "state": {
       "layout": "IPY_MODEL_b8156db625ad4d388529bae79ecced1b",
       "style": "IPY_MODEL_9e019d6d07bd4474b2775fb331a84eae"
      }
     },
     "c18955b9c1f544b4a4d4b8ec2c2bd525": {
      "model_module": "@jupyter-widgets/controls",
      "model_module_version": "1.2.0",
      "model_name": "LabelModel",
      "state": {
       "layout": "IPY_MODEL_ca17bed8b9ec4531b51f210f90b0ddd6",
       "style": "IPY_MODEL_d1f51c63446042c2b05ede49aa95a5b5"
      }
     },
     "c223c6d736744fc4993485ea5942c797": {
      "model_module": "@jupyter-widgets/base",
      "model_module_version": "1.0.0",
      "model_name": "LayoutModel",
      "state": {}
     },
     "c25629c6d4a046d1a2b950c685e58154": {
      "model_module": "@jupyter-widgets/base",
      "model_module_version": "1.0.0",
      "model_name": "LayoutModel",
      "state": {}
     },
     "c26ee778d69b405994c815958055d72d": {
      "model_module": "@jupyter-widgets/base",
      "model_module_version": "1.0.0",
      "model_name": "LayoutModel",
      "state": {}
     },
     "c3e85bb1ced24c6a809e5415d2de55d1": {
      "model_module": "@jupyter-widgets/controls",
      "model_module_version": "1.2.0",
      "model_name": "LabelModel",
      "state": {
       "layout": "IPY_MODEL_c7d6c4a809c14233ac06621374b116d2",
       "style": "IPY_MODEL_4dc36bc4f0fd4e83bbb7bede9f34f75b"
      }
     },
     "c476f587ed8e4984a50828416475ffdc": {
      "model_module": "@jupyter-widgets/controls",
      "model_module_version": "1.2.0",
      "model_name": "LabelModel",
      "state": {
       "layout": "IPY_MODEL_9edb2407327147e1950dee9033655a6f",
       "style": "IPY_MODEL_591c73b968684e659e0597d7a28276a0"
      }
     },
     "c49517a443544ba4b63746723d5e7d50": {
      "model_module": "@jupyter-widgets/controls",
      "model_module_version": "1.2.0",
      "model_name": "ButtonModel",
      "state": {
       "button_style": "info",
       "description": "Check Answer",
       "layout": "IPY_MODEL_766f40807a6048d3b311f197e3459a5d",
       "style": "IPY_MODEL_a133b1ed596243dda37c418f6821619b"
      }
     },
     "c4d5b0fe4edf4d28b0136479ea6d0298": {
      "model_module": "@jupyter-widgets/controls",
      "model_module_version": "1.2.0",
      "model_name": "TextareaModel",
      "state": {
       "layout": "IPY_MODEL_d2606750d24d4515a5bbb8611642cc42",
       "placeholder": "Please enter a short paragraph answer here ...",
       "rows": 5,
       "style": "IPY_MODEL_d23416f6c0dd4278a699f1f8bd2b8ee4"
      }
     },
     "c4e0bdfd00c245cf930f7441a19fbb73": {
      "model_module": "@jupyter-widgets/base",
      "model_module_version": "1.0.0",
      "model_name": "LayoutModel",
      "state": {}
     },
     "c6929150bdaa46449b4360b63971dffc": {
      "model_module": "@jupyter-widgets/controls",
      "model_module_version": "1.2.0",
      "model_name": "ButtonStyleModel",
      "state": {}
     },
     "c7a092e7e1a047a6909499c7a34c0090": {
      "model_module": "@jupyter-widgets/base",
      "model_module_version": "1.0.0",
      "model_name": "LayoutModel",
      "state": {}
     },
     "c7c2deccd53d41d28fdebeaebb61d64d": {
      "model_module": "@jupyter-widgets/controls",
      "model_module_version": "1.2.0",
      "model_name": "ButtonModel",
      "state": {
       "button_style": "info",
       "description": "Check Answer",
       "layout": "IPY_MODEL_feb595dc09c14c4294fba6c69041fa11",
       "style": "IPY_MODEL_77a9b9c174c54255936613b4b482519a"
      }
     },
     "c7d6c4a809c14233ac06621374b116d2": {
      "model_module": "@jupyter-widgets/base",
      "model_module_version": "1.0.0",
      "model_name": "LayoutModel",
      "state": {}
     },
     "c9292e7256034802a31e8d5f1d1e3ac3": {
      "model_module": "@jupyter-widgets/controls",
      "model_module_version": "1.2.0",
      "model_name": "LabelModel",
      "state": {
       "layout": "IPY_MODEL_23330abb6fdb48afad40cfbfb0b43959",
       "style": "IPY_MODEL_539c487793b3416fa31eab97a5a0724f"
      }
     },
     "ca17bed8b9ec4531b51f210f90b0ddd6": {
      "model_module": "@jupyter-widgets/base",
      "model_module_version": "1.0.0",
      "model_name": "LayoutModel",
      "state": {}
     },
     "cbfa3c3b6b6546c796b4360a87115023": {
      "model_module": "@jupyter-widgets/controls",
      "model_module_version": "1.2.0",
      "model_name": "ButtonModel",
      "state": {
       "button_style": "info",
       "description": "Check Answer",
       "layout": "IPY_MODEL_b287dffc9056466c9ebb85d281fb060b",
       "style": "IPY_MODEL_70eda523908c4073bde5d0e278ea4b63"
      }
     },
     "ccb48a1d9b004da3bd6375c3426f0944": {
      "model_module": "@jupyter-widgets/base",
      "model_module_version": "1.0.0",
      "model_name": "LayoutModel",
      "state": {}
     },
     "cf352b55e4a64a7dad8cc540ea3a989d": {
      "model_module": "@jupyter-widgets/base",
      "model_module_version": "1.0.0",
      "model_name": "LayoutModel",
      "state": {}
     },
     "cf7ceac4a5a14d75a35dbb38a4cb2b8c": {
      "model_module": "@jupyter-widgets/controls",
      "model_module_version": "1.2.0",
      "model_name": "DescriptionStyleModel",
      "state": {
       "description_width": ""
      }
     },
     "d0f3a4f7a39e46a2bdeac8c6967ed46f": {
      "model_module": "@jupyter-widgets/base",
      "model_module_version": "1.0.0",
      "model_name": "LayoutModel",
      "state": {}
     },
     "d0fd1882e41f47dfb05d7196ada03edf": {
      "model_module": "@jupyter-widgets/base",
      "model_module_version": "1.0.0",
      "model_name": "LayoutModel",
      "state": {}
     },
     "d16f9ce1accf40b2bd4aed98e4c29ca2": {
      "model_module": "@jupyter-widgets/controls",
      "model_module_version": "1.2.0",
      "model_name": "DescriptionStyleModel",
      "state": {
       "description_width": ""
      }
     },
     "d1f51c63446042c2b05ede49aa95a5b5": {
      "model_module": "@jupyter-widgets/controls",
      "model_module_version": "1.2.0",
      "model_name": "DescriptionStyleModel",
      "state": {
       "description_width": ""
      }
     },
     "d2040bf405da4743a592e4a510a439c6": {
      "model_module": "@jupyter-widgets/controls",
      "model_module_version": "1.2.0",
      "model_name": "DescriptionStyleModel",
      "state": {
       "description_width": ""
      }
     },
     "d23416f6c0dd4278a699f1f8bd2b8ee4": {
      "model_module": "@jupyter-widgets/controls",
      "model_module_version": "1.2.0",
      "model_name": "DescriptionStyleModel",
      "state": {
       "description_width": ""
      }
     },
     "d2606750d24d4515a5bbb8611642cc42": {
      "model_module": "@jupyter-widgets/base",
      "model_module_version": "1.0.0",
      "model_name": "LayoutModel",
      "state": {}
     },
     "d36e150afdb8459a8461585bfedc1cda": {
      "model_module": "@jupyter-widgets/base",
      "model_module_version": "1.0.0",
      "model_name": "LayoutModel",
      "state": {}
     },
     "d416dda1e1314bbbbc86861e9bb57eda": {
      "model_module": "@jupyter-widgets/controls",
      "model_module_version": "1.2.0",
      "model_name": "ButtonStyleModel",
      "state": {}
     },
     "d81dacab4e0148a687fbb2f5c93d87fa": {
      "model_module": "@jupyter-widgets/base",
      "model_module_version": "1.0.0",
      "model_name": "LayoutModel",
      "state": {}
     },
     "d8464cbec6394a00a24961fb7e46afd3": {
      "model_module": "@jupyter-widgets/controls",
      "model_module_version": "1.2.0",
      "model_name": "DescriptionStyleModel",
      "state": {
       "description_width": ""
      }
     },
     "da3b63df1f6e4fd8a9d4061f7d41c322": {
      "model_module": "@jupyter-widgets/base",
      "model_module_version": "1.0.0",
      "model_name": "LayoutModel",
      "state": {}
     },
     "db4473d6b05f4ac9b56a21527b9aab06": {
      "model_module": "@jupyter-widgets/controls",
      "model_module_version": "1.2.0",
      "model_name": "DescriptionStyleModel",
      "state": {
       "description_width": ""
      }
     },
     "dc11c1b00cf04d9eb98913f8a6b6ca02": {
      "model_module": "@jupyter-widgets/base",
      "model_module_version": "1.0.0",
      "model_name": "LayoutModel",
      "state": {}
     },
     "dc1b36d16b084240b7d940cf878da1bd": {
      "model_module": "@jupyter-widgets/base",
      "model_module_version": "1.0.0",
      "model_name": "LayoutModel",
      "state": {}
     },
     "dc7cd219372246f5af426d6700cc4f34": {
      "model_module": "@jupyter-widgets/controls",
      "model_module_version": "1.2.0",
      "model_name": "TextareaModel",
      "state": {
       "layout": "IPY_MODEL_2220e21a8816466aab045f1cdb2e55a4",
       "placeholder": "Please enter a short paragraph answer here ...",
       "rows": 5,
       "style": "IPY_MODEL_e61632ea381f4edaad7ccc166a96d270"
      }
     },
     "df2538f9fb6d486cbe405ffbbd809e77": {
      "model_module": "@jupyter-widgets/controls",
      "model_module_version": "1.2.0",
      "model_name": "DescriptionStyleModel",
      "state": {
       "description_width": ""
      }
     },
     "dfcdde7a60bc47ef8da55d2b57a4a967": {
      "model_module": "@jupyter-widgets/controls",
      "model_module_version": "1.2.0",
      "model_name": "ButtonModel",
      "state": {
       "button_style": "info",
       "description": "Check Answer",
       "layout": "IPY_MODEL_148f764411924ada8c289207d891211e",
       "style": "IPY_MODEL_ad6fa9e13ce84f2986cf5441419d15f7"
      }
     },
     "dfe6f5844c524f0a9f8491d323c1ccf1": {
      "model_module": "@jupyter-widgets/controls",
      "model_module_version": "1.2.0",
      "model_name": "ButtonStyleModel",
      "state": {}
     },
     "e0fc991fc22a44e4b87e82045878a963": {
      "model_module": "@jupyter-widgets/controls",
      "model_module_version": "1.2.0",
      "model_name": "LabelModel",
      "state": {
       "layout": "IPY_MODEL_6fd7d78e9cce4970bc2b5f976ef816d4",
       "style": "IPY_MODEL_793f770c8e23403b93786a2ea7a1d28f"
      }
     },
     "e189770564ad495da1cbca3e07d95dc8": {
      "model_module": "@jupyter-widgets/base",
      "model_module_version": "1.0.0",
      "model_name": "LayoutModel",
      "state": {}
     },
     "e2b0904fa587469299b79894edf56010": {
      "model_module": "@jupyter-widgets/controls",
      "model_module_version": "1.2.0",
      "model_name": "DescriptionStyleModel",
      "state": {
       "description_width": ""
      }
     },
     "e39c2e3b174b479880bf7f2c668648c0": {
      "model_module": "@jupyter-widgets/base",
      "model_module_version": "1.0.0",
      "model_name": "LayoutModel",
      "state": {}
     },
     "e3cf8706c0174316893227bae0187849": {
      "model_module": "@jupyter-widgets/controls",
      "model_module_version": "1.2.0",
      "model_name": "ButtonModel",
      "state": {
       "button_style": "info",
       "description": "Check Answer",
       "layout": "IPY_MODEL_03154614280a4076a8ea9387a7497727",
       "style": "IPY_MODEL_21d40cf22fc441b48d0d61a9b54a3246"
      }
     },
     "e59b47aedb54475681c77e8bd4dc52fa": {
      "model_module": "@jupyter-widgets/controls",
      "model_module_version": "1.2.0",
      "model_name": "ButtonStyleModel",
      "state": {}
     },
     "e5b704a9c8f345c99bab7e4a3cd5a8b3": {
      "model_module": "@jupyter-widgets/controls",
      "model_module_version": "1.2.0",
      "model_name": "LabelModel",
      "state": {
       "layout": "IPY_MODEL_da3b63df1f6e4fd8a9d4061f7d41c322",
       "style": "IPY_MODEL_bfc020a2d8294d1393040b948011f2dd"
      }
     },
     "e5c38b7cc4724822b626f894ec5ecb55": {
      "model_module": "@jupyter-widgets/controls",
      "model_module_version": "1.2.0",
      "model_name": "DescriptionStyleModel",
      "state": {
       "description_width": ""
      }
     },
     "e61632ea381f4edaad7ccc166a96d270": {
      "model_module": "@jupyter-widgets/controls",
      "model_module_version": "1.2.0",
      "model_name": "DescriptionStyleModel",
      "state": {
       "description_width": ""
      }
     },
     "e66d6e4abafc4c4480a0943c1bf4e51c": {
      "model_module": "@jupyter-widgets/base",
      "model_module_version": "1.0.0",
      "model_name": "LayoutModel",
      "state": {}
     },
     "e77e24d3af214f0e97415b9b821a2b15": {
      "model_module": "@jupyter-widgets/controls",
      "model_module_version": "1.2.0",
      "model_name": "LabelModel",
      "state": {
       "layout": "IPY_MODEL_b95719b41f724b658f204a8293ee1c71",
       "style": "IPY_MODEL_b8634e36128842208c37e52e9712a320"
      }
     },
     "e7bf5838582246c6ac35e2de4cb8aaa9": {
      "model_module": "@jupyter-widgets/controls",
      "model_module_version": "1.2.0",
      "model_name": "LabelModel",
      "state": {
       "layout": "IPY_MODEL_b88d2a5a57a943b480fab5af6e8e9569",
       "style": "IPY_MODEL_5ec35cdd7a7a45a3a7cbcbfd8096115c"
      }
     },
     "e7f16f61bd3743809f623f5df9a3077c": {
      "model_module": "@jupyter-widgets/base",
      "model_module_version": "1.0.0",
      "model_name": "LayoutModel",
      "state": {}
     },
     "e8c05317c2a24b3eaa7362c5fa042196": {
      "model_module": "@jupyter-widgets/controls",
      "model_module_version": "1.2.0",
      "model_name": "ButtonModel",
      "state": {
       "button_style": "info",
       "description": "Check Answer",
       "layout": "IPY_MODEL_bcf6e5b272b74a85b8ee475d49b200f1",
       "style": "IPY_MODEL_e9d158cf26e14f88afd33bcf7caa7b1b"
      }
     },
     "e9d158cf26e14f88afd33bcf7caa7b1b": {
      "model_module": "@jupyter-widgets/controls",
      "model_module_version": "1.2.0",
      "model_name": "ButtonStyleModel",
      "state": {}
     },
     "e9d5a05c7d924e8aacb9a6be131efa91": {
      "model_module": "@jupyter-widgets/controls",
      "model_module_version": "1.2.0",
      "model_name": "ButtonModel",
      "state": {
       "button_style": "info",
       "description": "Check Answer",
       "layout": "IPY_MODEL_78fba39f46d64f01833f1b15c16503ed",
       "style": "IPY_MODEL_886c1530df58465a91834bf949dfc3dd"
      }
     },
     "ea8f804b18b34969a9d99eaea69409e4": {
      "model_module": "@jupyter-widgets/base",
      "model_module_version": "1.0.0",
      "model_name": "LayoutModel",
      "state": {}
     },
     "eafc1e3efb7649199de7cc134f4a20e9": {
      "model_module": "@jupyter-widgets/controls",
      "model_module_version": "1.2.0",
      "model_name": "DescriptionStyleModel",
      "state": {
       "description_width": ""
      }
     },
     "ebe74941843b4f15b9894dae67f54deb": {
      "model_module": "@jupyter-widgets/controls",
      "model_module_version": "1.2.0",
      "model_name": "ButtonModel",
      "state": {
       "button_style": "info",
       "description": "Check Answer",
       "layout": "IPY_MODEL_c223c6d736744fc4993485ea5942c797",
       "style": "IPY_MODEL_02821eb996ce4d99bb43bc70c9417664"
      }
     },
     "ec75fbcbc8534b59bf25de2a5c9e0cfa": {
      "model_module": "@jupyter-widgets/controls",
      "model_module_version": "1.2.0",
      "model_name": "ButtonStyleModel",
      "state": {}
     },
     "f01381c724bd4e5d9248acb2bc0cd24d": {
      "model_module": "@jupyter-widgets/controls",
      "model_module_version": "1.2.0",
      "model_name": "ButtonStyleModel",
      "state": {}
     },
     "f0da5d9b5a4e40da8d6d42857635622e": {
      "model_module": "@jupyter-widgets/base",
      "model_module_version": "1.0.0",
      "model_name": "LayoutModel",
      "state": {}
     },
     "f138f2acae6146c7b9db259cf341f80e": {
      "model_module": "@jupyter-widgets/base",
      "model_module_version": "1.0.0",
      "model_name": "LayoutModel",
      "state": {}
     },
     "f54e3d05486b40fc8f46b8ef2b5450c4": {
      "model_module": "@jupyter-widgets/base",
      "model_module_version": "1.0.0",
      "model_name": "LayoutModel",
      "state": {}
     },
     "f5f1ddfd34a04329b9536f48d37e8f4b": {
      "model_module": "@jupyter-widgets/controls",
      "model_module_version": "1.2.0",
      "model_name": "TextareaModel",
      "state": {
       "layout": "IPY_MODEL_63b29306cfb343158c09aa156f661258",
       "placeholder": "Please enter a short paragraph answer here ...",
       "rows": 5,
       "style": "IPY_MODEL_d16f9ce1accf40b2bd4aed98e4c29ca2"
      }
     },
     "f62233dc0ffe4259b887058a85f747ca": {
      "model_module": "@jupyter-widgets/controls",
      "model_module_version": "1.2.0",
      "model_name": "TextareaModel",
      "state": {
       "layout": "IPY_MODEL_a194ed85289d4ff79c95e773fcf1ed4d",
       "placeholder": "Please enter a short paragraph answer here ...",
       "rows": 5,
       "style": "IPY_MODEL_7cf64d968326436f81733a3632959399",
       "value": "ggg   ff fff"
      }
     },
     "f6aa05a6b55f49dca06f4c9177cde2e2": {
      "model_module": "@jupyter-widgets/controls",
      "model_module_version": "1.2.0",
      "model_name": "ButtonModel",
      "state": {
       "button_style": "danger",
       "description": "Save and Submit",
       "layout": "IPY_MODEL_a584f275b54c48769da7e9273992a627",
       "style": "IPY_MODEL_a35c760c29cd43239d96a43bc59f6137"
      }
     },
     "f707ed1934ec4bc5be4147308f5d1af0": {
      "model_module": "@jupyter-widgets/base",
      "model_module_version": "1.0.0",
      "model_name": "LayoutModel",
      "state": {}
     },
     "f79c5eb273894209b9d5dc03a7c9da27": {
      "model_module": "@jupyter-widgets/controls",
      "model_module_version": "1.2.0",
      "model_name": "TextareaModel",
      "state": {
       "layout": "IPY_MODEL_66d9680add344f07924bbdb69e640da4",
       "placeholder": "Please enter a short paragraph answer here ...",
       "rows": 5,
       "style": "IPY_MODEL_3b3941a76f424a6885923ac9eb70ac98"
      }
     },
     "f914bcacf09247308e92026f310d9674": {
      "model_module": "@jupyter-widgets/base",
      "model_module_version": "1.0.0",
      "model_name": "LayoutModel",
      "state": {}
     },
     "f94cae11200745c79698854d3f2a3185": {
      "model_module": "@jupyter-widgets/base",
      "model_module_version": "1.0.0",
      "model_name": "LayoutModel",
      "state": {}
     },
     "f9927d30ed0d4a469aa782f0b4d58aaf": {
      "model_module": "@jupyter-widgets/controls",
      "model_module_version": "1.2.0",
      "model_name": "LabelModel",
      "state": {
       "layout": "IPY_MODEL_5877523ef80246a8bfc45654f2ec757a",
       "style": "IPY_MODEL_51902d8f463a4b2bb27d6e519d3e3fa4"
      }
     },
     "f99473f56478454eaac49e2b0f430723": {
      "model_module": "@jupyter-widgets/controls",
      "model_module_version": "1.2.0",
      "model_name": "LabelModel",
      "state": {
       "layout": "IPY_MODEL_6212f3b45cd14df1b9a8801ae2c96958",
       "style": "IPY_MODEL_92f93a35b6c44c9489771d07fc4a511d"
      }
     },
     "f99a11338e8545ffad706dfd16b74ab2": {
      "model_module": "@jupyter-widgets/base",
      "model_module_version": "1.0.0",
      "model_name": "LayoutModel",
      "state": {}
     },
     "f9c24055579f4f158c4a128438430c14": {
      "model_module": "@jupyter-widgets/controls",
      "model_module_version": "1.2.0",
      "model_name": "ButtonModel",
      "state": {
       "button_style": "info",
       "description": "Check Answer",
       "layout": "IPY_MODEL_97b8f0ea55d94e1ba30de99413dc37be",
       "style": "IPY_MODEL_2ef33995e1624741b5491831952c84a3"
      }
     },
     "fae670284c8e4a38bbb71cab4f5c8b1d": {
      "model_module": "@jupyter-widgets/base",
      "model_module_version": "1.0.0",
      "model_name": "LayoutModel",
      "state": {}
     },
     "fb3671a479504880a138ff7b3018c097": {
      "model_module": "@jupyter-widgets/controls",
      "model_module_version": "1.2.0",
      "model_name": "TextareaModel",
      "state": {
       "layout": "IPY_MODEL_035933420ce9454286a30778cb29505a",
       "placeholder": "Please enter a short paragraph answer here ...",
       "rows": 5,
       "style": "IPY_MODEL_096ac9624cfa425fa1bec1da2ac1d5bd"
      }
     },
     "fbad3f3b8e64486fa8a6b2e31d8e0e02": {
      "model_module": "@jupyter-widgets/base",
      "model_module_version": "1.0.0",
      "model_name": "LayoutModel",
      "state": {}
     },
     "fc7550ba56d14be6b67b0d40207acd60": {
      "model_module": "@jupyter-widgets/base",
      "model_module_version": "1.0.0",
      "model_name": "LayoutModel",
      "state": {}
     },
     "fccd5ad76fa345949f040ef66cfe527c": {
      "model_module": "@jupyter-widgets/controls",
      "model_module_version": "1.2.0",
      "model_name": "ButtonModel",
      "state": {
       "button_style": "info",
       "description": "Check Answer",
       "layout": "IPY_MODEL_f914bcacf09247308e92026f310d9674",
       "style": "IPY_MODEL_4823665c13bf4d3788296c755a48c9a7"
      }
     },
     "fd0853fef0184ef294ecdf129a15b2d6": {
      "model_module": "@jupyter-widgets/base",
      "model_module_version": "1.0.0",
      "model_name": "LayoutModel",
      "state": {}
     },
     "fea7ee40f6dc48788c8857d085ebaa82": {
      "model_module": "@jupyter-widgets/controls",
      "model_module_version": "1.2.0",
      "model_name": "ButtonStyleModel",
      "state": {}
     },
     "feb595dc09c14c4294fba6c69041fa11": {
      "model_module": "@jupyter-widgets/base",
      "model_module_version": "1.0.0",
      "model_name": "LayoutModel",
      "state": {}
     },
     "ff2312df2b754a1caa0e5119a5398293": {
      "model_module": "@jupyter-widgets/controls",
      "model_module_version": "1.2.0",
      "model_name": "LabelModel",
      "state": {
       "layout": "IPY_MODEL_f0da5d9b5a4e40da8d6d42857635622e",
       "style": "IPY_MODEL_160601929fe84ed3894ff17c1a2c753e"
      }
     }
    },
    "version_major": 2,
    "version_minor": 0
   }
  }
 },
 "nbformat": 4,
 "nbformat_minor": 2
}
