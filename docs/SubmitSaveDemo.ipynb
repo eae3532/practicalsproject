{
 "cells": [
  {
   "cell_type": "markdown",
   "metadata": {},
   "source": [
    "<img src=\"./src/Monash-logo.jpg\" width = \"600\">"
   ]
  },
  {
   "cell_type": "markdown",
   "metadata": {},
   "source": [
    "### Instructions for Use\n",
    "\n",
    "- This template will generate a HTML file that contains each text box's input.  \n",
    "    The file will only be created if each input has the required _word length_.  \n",
    "    Set the _word length_ in the first cell (directly under this one before first question).\n",
    "- Copy and Paste the cells into any notebook.\n",
    "- Extend the variable numbered naming system for UI elements to add more questions.\n",
    "- Hide/Show selected code cells with the Toolbar option before saving.\n",
    "![title](./src/hidecell.JPG)  \n",
    "- Check **\"Initialization cell\"** on each of the code cells via  \n",
    "    View/Cell Toolbar/Initialization Cell\n",
    "- **Clear Notebook Widget State** before **Save and Checkpoint**  \n"
   ]
  },
  {
   "cell_type": "code",
   "execution_count": 1,
   "metadata": {
    "execute": true,
    "hide_input": true,
    "init_cell": true
   },
   "outputs": [],
   "source": [
    "import ipywidgets as widgets\n",
    "from IPython.display import display\n",
    "import time as t\n",
    "word_length = 3"
   ]
  },
  {
   "cell_type": "markdown",
   "metadata": {},
   "source": [
    "** 1)** Describe the pressure profile (linear/non-linear, depth- or density-dependent)"
   ]
  },
  {
   "cell_type": "code",
   "execution_count": 2,
   "metadata": {
    "execute": true,
    "hide_input": true,
    "init_cell": true
   },
   "outputs": [
    {
     "data": {
      "application/vnd.jupyter.widget-view+json": {
       "model_id": "95cd40d7d4ef4a75aede2085bebd33eb",
       "version_major": 2,
       "version_minor": 0
      },
      "text/plain": [
       "Textarea(value='', placeholder='Please enter a short paragraph answer here ...', rows=5)"
      ]
     },
     "metadata": {},
     "output_type": "display_data"
    },
    {
     "data": {
      "application/vnd.jupyter.widget-view+json": {
       "model_id": "299659710a0f4acaa8b2f67362ce4bd9",
       "version_major": 2,
       "version_minor": 0
      },
      "text/plain": [
       "Button(button_style='info', description='Check Answer', style=ButtonStyle())"
      ]
     },
     "metadata": {},
     "output_type": "display_data"
    },
    {
     "data": {
      "application/vnd.jupyter.widget-view+json": {
       "model_id": "4d44316d83764b2c98ef7c120206f7d8",
       "version_major": 2,
       "version_minor": 0
      },
      "text/plain": [
       "Label(value='')"
      ]
     },
     "metadata": {},
     "output_type": "display_data"
    }
   ],
   "source": [
    "text_1 = widgets.Textarea(rows=5, placeholder='Please enter a short paragraph answer here ...')\n",
    "button_1 = widgets.Button(description='Check Answer', button_style='info')\n",
    "label_1 = widgets.Label(value='')\n",
    "#container_1 = widgets.HBox(children=[text_1, button_1])\n",
    "\n",
    "def submit_text_1(sender):\n",
    "    sender.description = 'Check Answer'\n",
    "    sender.button_style = 'info'\n",
    "    \n",
    "    words_1 = text_1.value.split()\n",
    "    \n",
    "    if len(words_1) < word_length:\n",
    "        label_1.value = 'Too short...try again!'\n",
    "        t.sleep(3)\n",
    "        label_1.value = ''\n",
    "    else:\n",
    "        sender.description = 'OK!'\n",
    "        sender.button_style = 'success'\n",
    "    return words_1\n",
    "    \n",
    "button_1.on_click(submit_text_1)\n",
    "display(text_1)\n",
    "display(button_1)\n",
    "display(label_1)\n",
    "#display(container_1)"
   ]
  },
  {
   "cell_type": "markdown",
   "metadata": {},
   "source": [
    "**2)** Describe the assumptions of depth-dependent (and density-independent) pressure"
   ]
  },
  {
   "cell_type": "code",
   "execution_count": 3,
   "metadata": {
    "execute": true,
    "hide_input": true,
    "init_cell": true
   },
   "outputs": [
    {
     "data": {
      "application/vnd.jupyter.widget-view+json": {
       "model_id": "9291299477b247d7b7686061ca187596",
       "version_major": 2,
       "version_minor": 0
      },
      "text/plain": [
       "Textarea(value='', placeholder='Please enter a short paragraph answer here ...', rows=5)"
      ]
     },
     "metadata": {},
     "output_type": "display_data"
    },
    {
     "data": {
      "application/vnd.jupyter.widget-view+json": {
       "model_id": "26df362c66b244a9a35a6b42eb602d5a",
       "version_major": 2,
       "version_minor": 0
      },
      "text/plain": [
       "Button(button_style='info', description='Check Answer', style=ButtonStyle())"
      ]
     },
     "metadata": {},
     "output_type": "display_data"
    },
    {
     "data": {
      "application/vnd.jupyter.widget-view+json": {
       "model_id": "7095f51bfa6245d5a59c8fd400e98be3",
       "version_major": 2,
       "version_minor": 0
      },
      "text/plain": [
       "Label(value='')"
      ]
     },
     "metadata": {},
     "output_type": "display_data"
    }
   ],
   "source": [
    "text_2 = widgets.Textarea(rows=5, placeholder='Please enter a short paragraph answer here ...')\n",
    "button_2 = widgets.Button(description='Check Answer', button_style='info')\n",
    "label_2 = widgets.Label(value='')\n",
    "#container_2 = widgets.HBox(children=[text_2, button_2])\n",
    "\n",
    "def submit_text_2(sender):\n",
    "    sender.description = 'Check Answer'\n",
    "    sender.button_style = 'info'\n",
    "    \n",
    "    words_2 = text_2.value.split()\n",
    "    \n",
    "    if len(words_2) < word_length:\n",
    "        label_2.value = 'Too short...try again!'\n",
    "        t.sleep(3)\n",
    "        label_2.value = ''\n",
    "    else:\n",
    "        sender.description = 'OK!'\n",
    "        sender.button_style = 'success'\n",
    "        \n",
    "\n",
    "button_2.on_click(submit_text_2)\n",
    "display(text_2)\n",
    "display(button_2)\n",
    "display(label_2)\n",
    "#display(container_2)"
   ]
  },
  {
   "cell_type": "markdown",
   "metadata": {
    "hide_input": true
   },
   "source": [
    "**3)** What is the Pressure at the base of the cold and warm lithospheres?"
   ]
  },
  {
   "cell_type": "code",
   "execution_count": 4,
   "metadata": {
    "execute": true,
    "hide_input": true,
    "init_cell": true
   },
   "outputs": [
    {
     "data": {
      "application/vnd.jupyter.widget-view+json": {
       "model_id": "52a4a1d0201742ca912e98f3803fb07e",
       "version_major": 2,
       "version_minor": 0
      },
      "text/plain": [
       "Textarea(value='', placeholder='Please enter a short paragraph answer here ...', rows=5)"
      ]
     },
     "metadata": {},
     "output_type": "display_data"
    },
    {
     "data": {
      "application/vnd.jupyter.widget-view+json": {
       "model_id": "cc9c8902a00d4afaab080d88ebf8c841",
       "version_major": 2,
       "version_minor": 0
      },
      "text/plain": [
       "Button(button_style='info', description='Check Answer', style=ButtonStyle())"
      ]
     },
     "metadata": {},
     "output_type": "display_data"
    },
    {
     "data": {
      "application/vnd.jupyter.widget-view+json": {
       "model_id": "a07d259cea234a3cbd35de7d8559103c",
       "version_major": 2,
       "version_minor": 0
      },
      "text/plain": [
       "Label(value='')"
      ]
     },
     "metadata": {},
     "output_type": "display_data"
    }
   ],
   "source": [
    "text_3 = widgets.Textarea(rows=5, placeholder='Please enter a short paragraph answer here ...')\n",
    "button_3 = widgets.Button(description='Check Answer', button_style='info')\n",
    "label_3 = widgets.Label(value='')\n",
    "#container_3 = widgets.HBox(children=[text_3, button_3])\n",
    "\n",
    "def submit_text_3(sender):\n",
    "    sender.description = 'Check Answer'\n",
    "    sender.button_style = 'info'\n",
    "    \n",
    "    words_3 = text_3.value.split()\n",
    "    \n",
    "    if len(words_3) < word_length:\n",
    "        label_3.value = 'Too short...try again!'\n",
    "        t.sleep(3)\n",
    "        label_3.value = ''\n",
    "    else:\n",
    "        sender.description = 'OK!'\n",
    "        sender.button_style = 'success'\n",
    "        \n",
    "\n",
    "button_3.on_click(submit_text_3)\n",
    "display(text_3)\n",
    "display(button_3)\n",
    "display(label_3)\n",
    "#display(container_3)"
   ]
  },
  {
   "cell_type": "code",
   "execution_count": 5,
   "metadata": {
    "execute": true,
    "hide_input": true,
    "init_cell": true
   },
   "outputs": [
    {
     "data": {
      "application/vnd.jupyter.widget-view+json": {
       "model_id": "1f270d221164486ba9ca63a76039b062",
       "version_major": 2,
       "version_minor": 0
      },
      "text/plain": [
       "Button(button_style='danger', description='Save and Submit', style=ButtonStyle())"
      ]
     },
     "metadata": {},
     "output_type": "display_data"
    },
    {
     "data": {
      "application/vnd.jupyter.widget-view+json": {
       "model_id": "37d600bcd53343d796208f29d8ad3816",
       "version_major": 2,
       "version_minor": 0
      },
      "text/plain": [
       "Label(value='')"
      ]
     },
     "metadata": {},
     "output_type": "display_data"
    }
   ],
   "source": [
    "from ipywidgets.embed import embed_minimal_html\n",
    "from IPython.display import Javascript\n",
    "\n",
    "submit_button = widgets.Button(description='Save and Submit', button_style='danger')\n",
    "submit_label = widgets.Label(value='')\n",
    "display(submit_button)\n",
    "display(submit_label)\n",
    "\n",
    "\n",
    "def check_submit(submit):\n",
    "    answer1_len = len(text_1.value.split())\n",
    "    answer2_len = len(text_2.value.split())\n",
    "    answer3_len = len(text_3.value.split())\n",
    "    \n",
    "    if answer1_len >= word_length and answer2_len >= word_length and answer3_len >= word_length:\n",
    "        submit_label.value = 'Saved practical_1.html..please submit this file to Moodle'\n",
    "        js = \"\"\"Jupyter.actions.call('widgets:save-widget-state')\"\"\"\n",
    "        display(Javascript(data=js))\n",
    "        embed_minimal_html('practical_1.html', views=[text_1,text_2,text_3], title='Practical 1')\n",
    "    else:\n",
    "        submit_label.value = 'Check your answers and try again'\n",
    "        t.sleep(3)\n",
    "        submit_label.value = ''\n",
    "    \n",
    "submit_button.on_click(check_submit)"
   ]
  }
 ],
 "metadata": {
  "celltoolbar": "Initialization Cell",
  "kernelspec": {
   "display_name": "Python 3",
   "language": "python",
   "name": "python3"
  },
  "language_info": {
   "codemirror_mode": {
    "name": "ipython",
    "version": 3
   },
   "file_extension": ".py",
   "mimetype": "text/x-python",
   "name": "python",
   "nbconvert_exporter": "python",
   "pygments_lexer": "ipython3",
   "version": "3.6.5"
  }
 },
 "nbformat": 4,
 "nbformat_minor": 2
}
