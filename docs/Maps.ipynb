{
 "cells": [
  {
   "cell_type": "markdown",
   "metadata": {},
   "source": [
    "<img src=\"./src/Monash-logo.jpg\" width = \"600\">"
   ]
  },
  {
   "cell_type": "markdown",
   "metadata": {},
   "source": [
    "## BASEMAP"
   ]
  },
  {
   "cell_type": "code",
   "execution_count": 4,
   "metadata": {},
   "outputs": [],
   "source": [
    "from mpl_toolkits.basemap import Basemap\n",
    "from netCDF4 import Dataset\n",
    "import numpy as np\n",
    "import matplotlib.pyplot as plt\n",
    "\n",
    "dataset = Dataset('./resources/age.3.6.nc')\n",
    "\n",
    "ages = dataset.variables['z'][:]\n",
    "\n",
    "ages = ages/100\n",
    "\n",
    "lons = dataset.variables['x'][:]\n",
    "lats = dataset.variables['y'][:]\n",
    "\n",
    "lons, lats = np.meshgrid(lons, lats)\n",
    "\n",
    "fig = plt.figure()\n",
    "\n",
    "m = Basemap(projection='kav7', lon_0=175, resolution='c')\n",
    "\n",
    "m.drawmapboundary(fill_color='0.3')\n",
    "m.drawcoastlines()\n",
    "m.fillcontinents(color='gray')\n",
    "\n",
    "im1 = m.pcolormesh(lons, lats, ages, shading='flat', cmap=plt.cm.Spectral_r, latlon=True)\n",
    "\n",
    "m.drawparallels(np.arange(-90.,120.,30.))\n",
    "m.drawmeridians(np.arange(0.,360.,60.))\n",
    "\n",
    "cb = m.colorbar(im1, \"bottom\")\n",
    "\n",
    "cb.set_label(' Ocean Age [Ma]')\n",
    "\n",
    "plt.title('Global ocean floor ages')\n",
    "plt.savefig('Global_OCages.png', format='png', dpi=500, bbox_inches='tight')"
   ]
  },
  {
   "cell_type": "markdown",
   "metadata": {},
   "source": [
    "## CARTOPY"
   ]
  },
  {
   "cell_type": "code",
   "execution_count": 5,
   "metadata": {},
   "outputs": [
    {
     "name": "stderr",
     "output_type": "stream",
     "text": [
      "C:\\Users\\sliggady\\Anaconda2\\lib\\site-packages\\matplotlib\\ticker.py:1852: UserWarning: Steps argument should be a sequence of numbers\n",
      "increasing from 1 to 10, inclusive. Behavior with\n",
      "values outside this range is undefined, and will\n",
      "raise a ValueError in future versions of mpl.\n",
      "  warnings.warn('Steps argument should be a sequence of numbers\\n'\n"
     ]
    }
   ],
   "source": [
    "import matplotlib.pyplot as plt\n",
    "from netCDF4 import Dataset\n",
    "import numpy as np\n",
    "\n",
    "import cartopy\n",
    "import cartopy.crs as ccrs\n",
    "from cartopy.mpl.ticker import LongitudeFormatter, LatitudeFormatter\n",
    "\n",
    "\n",
    "\n",
    "dataset = Dataset('./resources/age.3.6.nc')\n",
    "\n",
    "ages = dataset.variables['z'][:]\n",
    "\n",
    "ages = ages/100\n",
    "\n",
    "lons = dataset.variables['x'][:]\n",
    "lats = dataset.variables['y'][:]\n",
    "\n",
    "lons, lats = np.meshgrid(lons, lats)\n",
    "\n",
    "fig = plt.figure()\n",
    "\n",
    "\n",
    "ax = plt.axes(projection=ccrs.Mollweide(central_longitude=180, globe=None))\n",
    "\n",
    "#ax.add_feature(cartopy.feature.OCEAN, zorder=0)\n",
    "# m.drawmapboundary(fill_color='0.3')\n",
    "# m.drawcoastlines()\n",
    "# m.fillcontinents(color='gray')\n",
    "\n",
    "im1 = ax.pcolormesh(lons, lats, ages, shading='flat',\n",
    "                    transform=ccrs.PlateCarree(), cmap=plt.cm.Spectral_r)\n",
    "ax.add_feature(cartopy.feature.LAND, zorder=0, facecolor='gray')\n",
    "ax.add_feature(cartopy.feature.BORDERS)\n",
    "ax.add_feature(cartopy.feature.COASTLINE, edgecolor='black')\n",
    "gl=ax.gridlines(linestyle='--')\n",
    "\n",
    "#gl.xlabels_top= False\n",
    "#gl.ylabels_right = False\n",
    "#gl.xformatter = LONGITUDE_FORMATTER\n",
    "#gl.yformatter = LATITUDE_FORMATTER\n",
    "\n",
    "ax.set_global()\n",
    "\n",
    "# m.drawparallels(np.arange(-90.,120.,30.))\n",
    "# m.drawmeridians(np.arange(0.,360.,60.))\n",
    "\n",
    "cb = plt.colorbar(im1, orientation = 'horizontal')\n",
    "cb.set_label(' Ocean Age [Ma]')\n",
    "\n",
    "plt.title('Global ocean floor ages')\n",
    "\n",
    "# plt.show()\n",
    "\n",
    "plt.savefig('Global_floor_ages.png', format='png', dpi=1000, bbox_inches='tight')"
   ]
  },
  {
   "cell_type": "code",
   "execution_count": null,
   "metadata": {
    "collapsed": true
   },
   "outputs": [],
   "source": []
  }
 ],
 "metadata": {
  "kernelspec": {
   "display_name": "Python 2",
   "language": "python",
   "name": "python2"
  },
  "language_info": {
   "codemirror_mode": {
    "name": "ipython",
    "version": 2
   },
   "file_extension": ".py",
   "mimetype": "text/x-python",
   "name": "python",
   "nbconvert_exporter": "python",
   "pygments_lexer": "ipython2",
   "version": "2.7.13"
  }
 },
 "nbformat": 4,
 "nbformat_minor": 2
}
