{
 "cells": [
  {
   "cell_type": "markdown",
   "metadata": {},
   "source": [
    "<img src=\"../src/Monash-logo.jpg\" width = \"600\">"
   ]
  },
  {
   "cell_type": "markdown",
   "metadata": {},
   "source": [
    "<h1 align=\"center\">EAE 3532 - Physics of the Solid Earth</h1>"
   ]
  },
  {
   "cell_type": "markdown",
   "metadata": {},
   "source": [
    "<h2 align=\"center\">Week 3</h2>"
   ]
  },
  {
   "cell_type": "markdown",
   "metadata": {
    "collapsed": true
   },
   "source": [
    "Using the script from the first Prac and modify to plot the oceanic geotherm and the “cold” and “warm” continental geotherms that match the data (from Afonso and Ranalli, 2003)."
   ]
  },
  {
   "cell_type": "markdown",
   "metadata": {},
   "source": [
    "![Figure1](../src/prac1Figure1.JPG)"
   ]
  },
  {
   "cell_type": "markdown",
   "metadata": {},
   "source": [
    "Modify the linear temperature distribution _T(y) = gradient(T) * y_ into an oceanic Half Space Cooling Model with different ages (between 10 and 80 Myr)"
   ]
  },
  {
   "cell_type": "markdown",
   "metadata": {},
   "source": [
    "$$  \\frac {T (y) - T_{o}}{T_{m} - T_{o}} =   erf \\frac{y}{2 \\sqrt{\\kappa t}}$$  \n",
    "  \n",
    "where $\\kappa = 1 mm^{2} s^{-1}$, $T_{m}$ and $T_{o}$ are mantle and surface temperature, respectively.\n"
   ]
  },
  {
   "cell_type": "code",
   "execution_count": 2,
   "metadata": {
    "collapsed": true
   },
   "outputs": [],
   "source": [
    "# CONTINENTAL GEOTHERM\n",
    "\n",
    "# OCEANIC GEOTHERM"
   ]
  },
  {
   "cell_type": "markdown",
   "metadata": {},
   "source": [
    "Plot the continental geotherms:  \n",
    "\n",
    "$$\n",
    "T = T_{o} + \\frac{q_{m} y}{k} + \\frac {\\rho H_{o} h_{r}^{2}}{k} (1 - e^\\frac{-y}{h_{r}})\n",
    "$$  \n",
    "  \n",
    "Use $k = 3.35 W m^{-1} K^{-1}$ and heat flux from the mantle $q_{m} = 10 - 60 mW m^{-2}$ (vary this value to match the observable).  \n",
    "The length scale at which the radiogenic heat decays is the radiogenic crust thickness $h_{r} = 30 Km$ and $\\rho H_{o} = 5 µW m^{–3}$. "
   ]
  },
  {
   "cell_type": "code",
   "execution_count": 1,
   "metadata": {
    "collapsed": true
   },
   "outputs": [],
   "source": [
    "# PLOT HERE"
   ]
  },
  {
   "cell_type": "markdown",
   "metadata": {},
   "source": [
    "### Answer the following questions:  \n",
    "\n",
    "**1)**\tHow does the oceanic lithosphere thickness vary with cooling time (age)?   \n",
    "- Make a plot of thickness (using the isotherm by T = 0.8 * Tm) vs. age  \n"
   ]
  },
  {
   "cell_type": "code",
   "execution_count": 3,
   "metadata": {
    "collapsed": true
   },
   "outputs": [],
   "source": [
    "# PLOT HERE"
   ]
  },
  {
   "cell_type": "markdown",
   "metadata": {},
   "source": [
    "**2)**\tHow does the thermal thickness of the continental lithosphere vary with $q_{m}$?  \n",
    "\n",
    "**3)**\tCalculate the equivalent heat flux for continental and oceanic lithospheres using Fourier’s law q = k ∆T/∆y. Note that when the geotherm is not linear, the heat flux might be better calculated close to the surface where the gradient is steepest.  \n",
    "\n",
    "**4)**\tRecalling average heat flux of 78mW m-2 and 56 mW m-2 for oceanic and continental domains, respectively, does your calculation agree with these values?\n"
   ]
  }
 ],
 "metadata": {
  "kernelspec": {
   "display_name": "Python 3",
   "language": "python",
   "name": "python3"
  },
  "language_info": {
   "codemirror_mode": {
    "name": "ipython",
    "version": 3
   },
   "file_extension": ".py",
   "mimetype": "text/x-python",
   "name": "python",
   "nbconvert_exporter": "python",
   "pygments_lexer": "ipython3",
   "version": "3.6.5"
  }
 },
 "nbformat": 4,
 "nbformat_minor": 2
}
