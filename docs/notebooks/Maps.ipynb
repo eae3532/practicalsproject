{
 "cells": [
  {
   "cell_type": "markdown",
   "metadata": {},
   "source": [
    "<img src=\"../src/Monash-logo.jpg\" width = \"600\">"
   ]
  },
  {
   "cell_type": "markdown",
   "metadata": {},
   "source": [
    "## BASEMAP"
   ]
  },
  {
   "cell_type": "code",
   "execution_count": 1,
   "metadata": {},
   "outputs": [],
   "source": [
    "from mpl_toolkits.basemap import Basemap\n",
    "from netCDF4 import Dataset\n",
    "import numpy as np\n",
    "import matplotlib.pyplot as plt\n",
    "\n",
    "dataset = Dataset('../resources/age.3.6.nc')\n",
    "\n",
    "ages = dataset.variables['z'][:]\n",
    "\n",
    "ages = ages/100\n",
    "\n",
    "lons = dataset.variables['x'][:]\n",
    "lats = dataset.variables['y'][:]\n",
    "\n",
    "lons, lats = np.meshgrid(lons, lats)\n",
    "\n",
    "fig = plt.figure()\n",
    "\n",
    "m = Basemap(projection='kav7', lon_0=175, resolution='c')\n",
    "\n",
    "m.drawmapboundary(fill_color='0.3')\n",
    "m.drawcoastlines()\n",
    "m.fillcontinents(color='gray')\n",
    "\n",
    "im1 = m.pcolormesh(lons, lats, ages, shading='flat', cmap=plt.cm.Spectral_r, latlon=True)\n",
    "\n",
    "m.drawparallels(np.arange(-90.,120.,30.))\n",
    "m.drawmeridians(np.arange(0.,360.,60.))\n",
    "\n",
    "cb = m.colorbar(im1, \"bottom\")\n",
    "\n",
    "cb.set_label(' Ocean Age [Ma]')\n",
    "\n",
    "plt.title('Global ocean floor ages')\n",
    "plt.savefig('Global_OCages.png', format='png', dpi=500, bbox_inches='tight')"
   ]
  },
  {
   "cell_type": "markdown",
   "metadata": {},
   "source": [
    "## CARTOPY"
   ]
  },
  {
   "cell_type": "code",
   "execution_count": null,
   "metadata": {},
   "outputs": [],
   "source": [
    "import matplotlib.pyplot as plt\n",
    "from netCDF4 import Dataset\n",
    "import numpy as np\n",
    "\n",
    "import cartopy\n",
    "import cartopy.crs as ccrs\n",
    "from cartopy.mpl.ticker import LongitudeFormatter, LatitudeFormatter\n",
    "\n",
    "\n",
    "\n",
    "dataset = Dataset('../resources/age.3.6.nc')\n",
    "\n",
    "ages = dataset.variables['z'][:]\n",
    "\n",
    "ages = ages/100\n",
    "\n",
    "lons = np.array(dataset.variables['x'][:])\n",
    "lats = np.array(dataset.variables['y'][:])\n",
    "\n",
    "### removed meshgrid here due to versioning errors,added np.arrray to lons/lats above ###\n",
    "#lons, lats = np.meshgrid(lons, lats)\n",
    "\n",
    "fig = plt.figure()\n",
    "\n",
    "\n",
    "ax = plt.axes(projection=ccrs.Mollweide(central_longitude=180, globe=None))\n",
    "\n",
    "#ax.add_feature(cartopy.feature.OCEAN, zorder=0)\n",
    "# m.drawmapboundary(fill_color='0.3')\n",
    "# m.drawcoastlines()\n",
    "# m.fillcontinents(color='gray')\n",
    "\n",
    "im1 = ax.pcolormesh(lons, lats, ages, shading='flat',\n",
    "                    transform=ccrs.PlateCarree(), cmap=plt.cm.Spectral_r)\n",
    "ax.add_feature(cartopy.feature.LAND, zorder=0, facecolor='gray')\n",
    "ax.add_feature(cartopy.feature.BORDERS)\n",
    "ax.add_feature(cartopy.feature.COASTLINE, edgecolor='black')\n",
    "gl=ax.gridlines(linestyle='--')\n",
    "\n",
    "#gl.xlabels_top= False\n",
    "#gl.ylabels_right = False\n",
    "#gl.xformatter = LONGITUDE_FORMATTER\n",
    "#gl.yformatter = LATITUDE_FORMATTER\n",
    "\n",
    "ax.set_global()\n",
    "\n",
    "# m.drawparallels(np.arange(-90.,120.,30.))\n",
    "# m.drawmeridians(np.arange(0.,360.,60.))\n",
    "\n",
    "cb = plt.colorbar(im1, orientation = 'horizontal')\n",
    "cb.set_label(' Ocean Age [Ma]')\n",
    "\n",
    "plt.title('Global ocean floor ages')\n",
    "\n",
    "# plt.show()\n",
    "\n",
    "plt.savefig('Global_floor_ages.png', format='png', dpi=1000, bbox_inches='tight')"
   ]
  }
 ],
 "metadata": {
  "kernelspec": {
   "display_name": "Python 3",
   "language": "python",
   "name": "python3"
  },
  "language_info": {
   "codemirror_mode": {
    "name": "ipython",
    "version": 3
   },
   "file_extension": ".py",
   "mimetype": "text/x-python",
   "name": "python",
   "nbconvert_exporter": "python",
   "pygments_lexer": "ipython3",
   "version": "3.6.5"
  }
 },
 "nbformat": 4,
 "nbformat_minor": 2
}
