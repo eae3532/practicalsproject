{
 "cells": [
  {
   "cell_type": "markdown",
   "metadata": {},
   "source": [
    "<img src=\"../src/Monash-logo.jpg\" width = \"600\">"
   ]
  },
  {
   "cell_type": "markdown",
   "metadata": {},
   "source": [
    "<h1 align=\"center\">EAE 3532 - Physics of the Solid Earth</h1>"
   ]
  },
  {
   "cell_type": "markdown",
   "metadata": {},
   "source": [
    "<h2 align=\"center\">Week 4</h2>"
   ]
  },
  {
   "cell_type": "markdown",
   "metadata": {},
   "source": [
    "Using  the  script  from  the previous  Pracs  build  the  Yield  Strength  Envelope  of  the  Oceanic  and Continental Lithospheres.  \n",
    "Use the Plastic flow law (Byerlee):  "
   ]
  },
  {
   "cell_type": "markdown",
   "metadata": {},
   "source": [
    "$$\n",
    "\\sigma = \\sigma_{0} + \\mu P\n",
    "$$  \n",
    "\n",
    "where $\\sigma_{0}= 50$ MPa, $\\mu = 0.6$, and $P = \\rho_{0}gy$ (as in the previous Pracs).\n",
    "  "
   ]
  },
  {
   "cell_type": "markdown",
   "metadata": {},
   "source": [
    "Use the creep law for the Olivine and Crustal rocks end members Wet Quartzite to Maryland Diabaseand strain rates of $10^{-15} s^{-1}$.  \n",
    "(Refer to the additional slides in the _resources_ folder for the values or the Lecture)"
   ]
  },
  {
   "cell_type": "markdown",
   "metadata": {},
   "source": [
    "$$\n",
    "\\dot{\\epsilon} = \\sigma^{n} \\exp(\\frac{-Q}{RT})\n",
    "$$  \n",
    "  \n",
    "NOTE: This is to be rewritten in the stress explicit form.  \n",
    "  \n",
    "Reproduce two Oceanic lithospheres (for a young and old one) and a “cold” and “warm” continental geotherms.  \n",
    "Use a homogeneous continental crust of 30 km."
   ]
  },
  {
   "cell_type": "markdown",
   "metadata": {},
   "source": [
    "![title](../src/prac1Figure1.JPG)"
   ]
  },
  {
   "cell_type": "markdown",
   "metadata": {},
   "source": [
    "### Answer the following questions:"
   ]
  },
  {
   "cell_type": "markdown",
   "metadata": {},
   "source": [
    "**1)** What is the depth of the Plastic–Creep Transition in the Oceanic lithospheres?  \n",
    "\n",
    "**2)** What is the depth of the Plastic–Creep Transition in the Continental lithospheres? \n",
    "\n",
    "**3)** Different  continental  geotherms  and  crustal  compositions  predict  different  deformation  styles, \n",
    "discuss  the  overall  lithosphere  deformation  according  the  end  members  below.  These  are,  in \n",
    "general,  the  Jelly  Sandwich  (a)  and  the  Crème  Brulée  (b).  In  the  Jelly  Sandwich  the  largest \n",
    "strength is in the upper crust and lithospheric mantle, deforming under plastic regime (faulting or mylonitic shear zones\n",
    ") ![title](../src/prac4Figure2.JPG) while a weak layer in between is under creep, decoupling the layers.  In  the  Crème Brulée  most  of  the strength  is  in  a  top  layer,  while  the lithospheric  mantle  is  weak.  Faulting and shearing occurs in the top layer, which is under   plastic   conditions,   the mantle accommodatesdeformation  by  viscous dislocation creep.\n"
   ]
  }
 ],
 "metadata": {
  "kernelspec": {
   "display_name": "Python 3",
   "language": "python",
   "name": "python3"
  },
  "language_info": {
   "codemirror_mode": {
    "name": "ipython",
    "version": 3
   },
   "file_extension": ".py",
   "mimetype": "text/x-python",
   "name": "python",
   "nbconvert_exporter": "python",
   "pygments_lexer": "ipython3",
   "version": "3.6.5"
  }
 },
 "nbformat": 4,
 "nbformat_minor": 2
}
