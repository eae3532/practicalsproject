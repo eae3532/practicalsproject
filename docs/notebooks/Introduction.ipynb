{
 "cells": [
  {
   "cell_type": "markdown",
   "metadata": {},
   "source": [
    "<img src=\"../src/Monash-logo.jpg\" width = \"600\">"
   ]
  },
  {
   "cell_type": "markdown",
   "metadata": {},
   "source": [
    "<h1 align=\"center\">EAE 3532 - Physics of the Solid Earth</h1>"
   ]
  },
  {
   "cell_type": "markdown",
   "metadata": {},
   "source": [
    "<h2 align=\"center\">Practicals Introduction</h2>"
   ]
  },
  {
   "cell_type": "markdown",
   "metadata": {},
   "source": [
    "## Python Basics"
   ]
  },
  {
   "cell_type": "code",
   "execution_count": 2,
   "metadata": {},
   "outputs": [
    {
     "name": "stdout",
     "output_type": "stream",
     "text": [
      "100000.0\n",
      "-1.45\n",
      "Enter your data 3\n",
      "3.0\n"
     ]
    }
   ],
   "source": [
    "# Creating variables\n",
    "a = 1e05\n",
    "b = -1.45\n",
    "\n",
    "# Displaying variables\n",
    "print(a)\n",
    "print(b)\n",
    "\n",
    "# User input variables\n",
    "c = float(input(\"Enter your data \"))\n",
    "print(c)"
   ]
  },
  {
   "cell_type": "markdown",
   "metadata": {},
   "source": [
    "## Arrays and Numpy"
   ]
  },
  {
   "cell_type": "code",
   "execution_count": null,
   "metadata": {},
   "outputs": [],
   "source": [
    "# numpy is used for arrays\n",
    "import numpy as np"
   ]
  },
  {
   "cell_type": "code",
   "execution_count": null,
   "metadata": {},
   "outputs": [],
   "source": [
    "# single dimension arrays\n",
    "a = np.array([5, 9, 13])\n",
    "\n",
    "b = np.arange(20) # 20 sequential numbers\n",
    "\n",
    "c = np.linspace(0, 2, 9) # 8 even spaced numbers from 0 to 2\n",
    "\n",
    "d = np.zeros(10) # an array of 10 zeros\n",
    "\n",
    "e = np.ones(10) # an array of 10 ones\n",
    "\n",
    "f = 100*np.random.random(10) # an array of 10 random numbers from 0 to 100\n",
    "\n",
    "print(a)\n",
    "print(b)\n",
    "print(c)\n",
    "print(d)\n",
    "print(e)\n",
    "print(f)\n"
   ]
  },
  {
   "cell_type": "code",
   "execution_count": null,
   "metadata": {},
   "outputs": [],
   "source": [
    "# array operations are per array element\n",
    "# this is an operaion between a scalar and an array\n",
    "\n",
    "val = 10\n",
    "new_a = val*a\n",
    "print(new_a)"
   ]
  },
  {
   "cell_type": "code",
   "execution_count": null,
   "metadata": {},
   "outputs": [],
   "source": [
    "# some useful aggregate and statistical functions \n",
    "\n",
    "print(np.sum(a))\n",
    "print(np.prod(a))\n",
    "print(np.mean(a))\n",
    "print(np.max(a))"
   ]
  },
  {
   "cell_type": "markdown",
   "metadata": {},
   "source": [
    "## Plotting"
   ]
  },
  {
   "cell_type": "code",
   "execution_count": null,
   "metadata": {},
   "outputs": [],
   "source": [
    "# matplotlib is used for plotting\n",
    "%matplotlib inline\n",
    "import matplotlib.pyplot as plt"
   ]
  },
  {
   "cell_type": "code",
   "execution_count": null,
   "metadata": {},
   "outputs": [],
   "source": [
    "x = 4.5\n",
    "y = 5.5\n",
    "\n",
    "plt.plot(x, y, 'ro'); # to plot a red point at the x,y co-ordinate point\n",
    "plt.plot(x*a, a, '-g'); # to plot a green line \n",
    "plt.plot(x*c, c, '--b'); # to plot a dashed blue line\n"
   ]
  },
  {
   "cell_type": "code",
   "execution_count": null,
   "metadata": {},
   "outputs": [],
   "source": [
    "# setting axis bounds, labels and title\n",
    "plt.plot(b, np.power(b, 2))\n",
    "\n",
    "plt.xlim(0, 10)\n",
    "plt.xlabel(\"X Axis\")\n",
    "plt.ylim(0, 100)\n",
    "plt.ylabel(\"Y Axis\")\n",
    "plt.title(\"EXAMPLE PLOT\");"
   ]
  }
 ],
 "metadata": {
  "kernelspec": {
   "display_name": "Python 3",
   "language": "python",
   "name": "python3"
  },
  "language_info": {
   "codemirror_mode": {
    "name": "ipython",
    "version": 3
   },
   "file_extension": ".py",
   "mimetype": "text/x-python",
   "name": "python",
   "nbconvert_exporter": "python",
   "pygments_lexer": "ipython3",
   "version": "3.6.5"
  }
 },
 "nbformat": 4,
 "nbformat_minor": 2
}
